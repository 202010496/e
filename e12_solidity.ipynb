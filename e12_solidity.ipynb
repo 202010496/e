{
 "cells": [
  {
   "cell_type": "markdown",
   "metadata": {
    "slideshow": {
     "slide_type": "slide"
    }
   },
   "source": [
    "#  12. Solidity 결합, 라이브러리, 보안\n",
    "\n",
    "* Last Updated 20200617WED1000 20190605WEB1200 20190120SUN0000 20180707SAT1300 20170112\n",
    "\n",
    "## 12.1 학습내용\n",
    "\n",
    "### 12.1.1 목표\n",
    " \n",
    "* contract 결합, 상속, 라이브러리, 보안"
   ]
  },
  {
   "cell_type": "markdown",
   "metadata": {
    "slideshow": {
     "slide_type": "slide"
    }
   },
   "source": [
    "### 12.1.2 목차\n",
    "\n",
    "* 12.2 컨트랙 결합\n",
    "    * 12.2.1 상대측 객체의 생성\n",
    "    * 12.2.2 함수의 호출\n",
    "    * 실습: new 명령어로 컨트랙 생성\n",
    "    * 실습: 컨트랙의 주소를 사용하여 컨트랙 결합\n",
    "    * 실습: 자동차와 엔진 컨트랙: new 명령어 사용\n",
    "    * 실습: 사각형과 면적 컨트랙: new 명령어 사용\n",
    "    * 실습: 이미 배포된 컨트랙을 포함: 주소를 사용\n",
    "    * 실습: import 문을 사용하여 컨트랙 결합\n",
    "    * 문제: Observer pattern\n",
    "* 12.3 [상속](#12.3)\n",
    "    * 실습: greeter\n",
    "* 12.4 [Library](#12.4)\n",
    "    * 12.4.1 library internal\n",
    "    * 실습: 주소 없이 라이브러리 사용\n",
    "    * 12.4.2 library public\n",
    "    * 실습: 커맨드라인으로 라이브러리 링크\n",
    "    * 실습: placeholder에 주소를 넣어 라이브러리 링크\n",
    "    \n",
    "    * 실습: 제삼자가 제공하는 github 라이브러리\n",
    "    * 실습: OpenZeppelin\n",
    "* 12.5 [보안](#12.5)\n"
   ]
  },
  {
   "cell_type": "markdown",
   "metadata": {
    "slideshow": {
     "slide_type": "slide"
    }
   },
   "source": [
    "## 12.2 컨트랙 결합\n",
    "\n",
    "지금까지는 주로 하나의 컨트랙을 개발하였다. 컨트랙이 2개 이상이 되는 경우, 결합을 해야 한다. Solidity는 객체지향언어이므로 ```is-a```, ```has-a``` 관계를 구현할 수 있다.\n",
    "\n",
    "### 12.2.1 상대측 객체의 생성\n",
    "\n",
    "컨트랙이 결합해야 하는 경우, 먼저 상대 객체를 생성해야 한다.\n",
    "사용하려는 대상 객체는, \n",
    "* 배포되어 있지 않은 경우 또는\n",
    "* 배포되어 있는 경우로 구분하여 관계를 가질 수 있다.\n",
    "\n",
    "#### 배포되어 있지 않은 경우\n",
    "* 한 파일에 컨트랙의 소스코드가 포함되는 경우, ```new()``` 명령어로 **인스턴스**를 만들어서 함수를 호출한다.\n",
    "\n",
    "#### 배포되어 있는 경우\n",
    "* 이미 배포된 컨트랙을 포함되는 경우, **주소**를 구해서 넘겨주어야 한다.\n",
    "\n",
    "상대객체를 한 파일에 포함하지 않는 경우라면, ```import``` 문으로 그 컨트랙을 포함하여야 한다.\n",
    "```import```문 다음에 적는 filename은 **현재 프로그램의 상대경로**로 적어준다.\n",
    "\n",
    "```python\n",
    "import <<filename>>\n",
    "```\n"
   ]
  },
  {
   "cell_type": "markdown",
   "metadata": {
    "slideshow": {
     "slide_type": "subslide"
    }
   },
   "source": [
    "### 12.2.2 함수의 호출\n",
    "\n",
    "#### 컨트랙에서 호출\n",
    "상대측 객체를 만들고 나면, 함수를 호출한다.\n",
    "함수는 객체지향에서 하는 방식으로 dot operator를 사용하면 된다.\n",
    "```python\n",
    "<instance>.functionMethod()\n",
    "```\n",
    "\n",
    "#### ```webe.js```에서 호출\n",
    "```web3.js```에서는 ```<instance>.methods.functionMethod()```라고 호출한다.\n",
    "\n",
    "좀 더 자세히 설명하면, 앞서 ```5.2 ABI 명세```에서 설명하였던 ```function selector```를 사용하여 함수가 호출된다.\n",
    "```function setCounter(uint n){ counter = n; }``` 함수를 컨트랙에서 호출해 보자.\n",
    "함수명을 sha3 해싱한 후, 처음 4바이트로 함수를 호출하게 된다.\n",
    "데이터가 없는 경우 (```calldata```가 없는 경우), ```fallback``` 함수가 호출된다.\n",
    "\n",
    "힘수 호출 | 설명\n",
    "-----|-----\n",
    "<address>.call.gas(200000).value(this.balance)(\"\") | fallback 함수 호출\n",
    "<address>.call.gas(200000).value(this.balance)(bytes4(bytes32(sha3(\"setCounter(uint)\")))) | ```setCounter``` 함수 호출\n",
    "\n",
    "다른 컨트랙을 호출하는 경우 gas 비용이 infinite라고 계산된다. 그 이유는 다른 컨트랙이 얼마나 gas를 사용하게 될지 모르기 때문이다.\n",
    "gas비용은 전송측에서 차감이 된다는 점에 주의하자.\n",
    "\n"
   ]
  },
  {
   "cell_type": "markdown",
   "metadata": {
    "slideshow": {
     "slide_type": "subslide"
    }
   },
   "source": [
    "## 실습: new 명령어로 컨트랙 생성\n",
    "\n",
    "```new()``` 명령어로 컨트랙을 생성하려면 컴파일 시점에 그 소스코드를 가져올 수 있어야 한다.\n",
    "즉 **상대 컨트랙이 동일한 파일에 존재**하거나\n",
    "또는 **```import``` 문으로 상대 컨트랙이 포함**되는 경우가 해당이 된다.\n",
    "그러면 상대 컨트랙이 컴파일되어 바이트코드가 포함되게 된다."
   ]
  },
  {
   "cell_type": "code",
   "execution_count": 1,
   "metadata": {
    "collapsed": false
   },
   "outputs": [],
   "source": [
    "import iplantuml"
   ]
  },
  {
   "cell_type": "code",
   "execution_count": 2,
   "metadata": {
    "collapsed": false
   },
   "outputs": [
    {
     "data": {
      "image/svg+xml": [
       "<svg height=\"77px\" style=\"width:146px;height:77px;\" version=\"1.1\" viewBox=\"0 0 146 77\" width=\"146px\" xmlns=\"http://www.w3.org/2000/svg\" xmlns:xlink=\"http://www.w3.org/1999/xlink\"><defs><filter height=\"300%\" id=\"f1\" width=\"300%\" x=\"-1\" y=\"-1\"><feGaussianBlur result=\"blurOut\" stdDeviation=\"2.0\"/><feColorMatrix in=\"blurOut\" result=\"blurOut2\" type=\"matrix\" values=\"0 0 0 0 0 0 0 0 0 0 0 0 0 0 0 0 0 0 .4 0\"/><feOffset dx=\"4.0\" dy=\"4.0\" in=\"blurOut2\" result=\"blurOut3\"/><feBlend in=\"SourceGraphic\" in2=\"blurOut3\" mode=\"normal\"/></filter></defs><g><rect fill=\"#FEFECE\" filter=\"url(#f1)\" height=\"48\" style=\"stroke: #A80036; stroke-width: 1.5;\" width=\"48\" x=\"89\" y=\"14.5\"/><ellipse cx=\"104\" cy=\"30.5\" fill=\"#ADD1B2\" rx=\"11\" ry=\"11\" style=\"stroke: #A80036; stroke-width: 1.0;\"/><path d=\"M106.9688,36.1406 Q106.3906,36.4375 105.75,36.5781 Q105.1094,36.7344 104.4063,36.7344 Q101.9063,36.7344 100.5781,35.0938 Q99.2656,33.4375 99.2656,30.3125 Q99.2656,27.1875 100.5781,25.5313 Q101.9063,23.875 104.4063,23.875 Q105.1094,23.875 105.75,24.0313 Q106.4063,24.1875 106.9688,24.4844 L106.9688,27.2031 Q106.3438,26.625 105.75,26.3594 Q105.1563,26.0781 104.5313,26.0781 Q103.1875,26.0781 102.5,27.1563 Q101.8125,28.2188 101.8125,30.3125 Q101.8125,32.4063 102.5,33.4844 Q103.1875,34.5469 104.5313,34.5469 Q105.1563,34.5469 105.75,34.2813 Q106.3438,34 106.9688,33.4219 L106.9688,36.1406 Z \"/><text fill=\"#000000\" font-family=\"sans-serif\" font-size=\"12\" lengthAdjust=\"spacingAndGlyphs\" textLength=\"16\" x=\"118\" y=\"34.6543\">C1</text><line style=\"stroke: #A80036; stroke-width: 1.5;\" x1=\"90\" x2=\"136\" y1=\"46.5\" y2=\"46.5\"/><line style=\"stroke: #A80036; stroke-width: 1.5;\" x1=\"90\" x2=\"136\" y1=\"54.5\" y2=\"54.5\"/><rect fill=\"#FEFECE\" filter=\"url(#f1)\" height=\"60.8047\" style=\"stroke: #A80036; stroke-width: 1.5;\" width=\"48\" x=\"6\" y=\"8\"/><ellipse cx=\"21\" cy=\"24\" fill=\"#ADD1B2\" rx=\"11\" ry=\"11\" style=\"stroke: #A80036; stroke-width: 1.0;\"/><path d=\"M23.9688,29.6406 Q23.3906,29.9375 22.75,30.0781 Q22.1094,30.2344 21.4063,30.2344 Q18.9063,30.2344 17.5781,28.5938 Q16.2656,26.9375 16.2656,23.8125 Q16.2656,20.6875 17.5781,19.0313 Q18.9063,17.375 21.4063,17.375 Q22.1094,17.375 22.75,17.5313 Q23.4063,17.6875 23.9688,17.9844 L23.9688,20.7031 Q23.3438,20.125 22.75,19.8594 Q22.1563,19.5781 21.5313,19.5781 Q20.1875,19.5781 19.5,20.6563 Q18.8125,21.7188 18.8125,23.8125 Q18.8125,25.9063 19.5,26.9844 Q20.1875,28.0469 21.5313,28.0469 Q22.1563,28.0469 22.75,27.7813 Q23.3438,27.5 23.9688,26.9219 L23.9688,29.6406 Z \"/><text fill=\"#000000\" font-family=\"sans-serif\" font-size=\"12\" lengthAdjust=\"spacingAndGlyphs\" textLength=\"16\" x=\"35\" y=\"28.1543\">C2</text><line style=\"stroke: #A80036; stroke-width: 1.5;\" x1=\"7\" x2=\"53\" y1=\"40\" y2=\"40\"/><text fill=\"#000000\" font-family=\"sans-serif\" font-size=\"11\" lengthAdjust=\"spacingAndGlyphs\" textLength=\"32\" x=\"12\" y=\"54.2104\">c1:C1</text><line style=\"stroke: #A80036; stroke-width: 1.5;\" x1=\"7\" x2=\"53\" y1=\"60.8047\" y2=\"60.8047\"/><path d=\"M54.3164,38.5 C64.0767,38.5 73.837,38.5 83.5973,38.5 \" fill=\"none\" style=\"stroke: #A80036; stroke-width: 1.0;\"/><polygon fill=\"#A80036\" points=\"88.7013,38.5,79.7013,34.5,83.7013,38.5,79.7013,42.5,88.7013,38.5\" style=\"stroke: #A80036; stroke-width: 1.0;\"/></g></svg>"
      ],
      "text/plain": [
       "<IPython.core.display.SVG object>"
      ]
     },
     "execution_count": 2,
     "metadata": {},
     "output_type": "execute_result"
    }
   ],
   "source": [
    "%%plantuml --jar\n",
    "@startuml\n",
    "class C1\n",
    "class C2 {\n",
    "    c1:C1\n",
    "}\n",
    "C2->C1\n",
    "@enduml"
   ]
  },
  {
   "cell_type": "markdown",
   "metadata": {
    "slideshow": {
     "slide_type": "subslide"
    }
   },
   "source": [
    "### 단계 1: 컨트랙 개발\n",
    "\n",
    "일부 0.5버전에서는 컴파일은 문제가 없었으나, 실행하면 기대하는 기능을 수행하지 못하는 증상이 있었다. 이는 이미 개발자들이 이슈에서 제기한 바, 0.4.21이하에서는 문제가 없으나 그 이후에는 문제가 있다 (https://github.com/ethereum/solidity/issues/3969).\n"
   ]
  },
  {
   "cell_type": "code",
   "execution_count": 32,
   "metadata": {
    "collapsed": false
   },
   "outputs": [
    {
     "name": "stdout",
     "output_type": "stream",
     "text": [
      "Overwriting src/C1C2.sol\n"
     ]
    }
   ],
   "source": [
    "%%writefile src/C1C2.sol\n",
    "pragma solidity ^0.6;\n",
    "//pragma solidity 0.4.21;\n",
    "contract C1 {\n",
    "    uint128 v1;\n",
    "    function set(uint128 _v1) public {\n",
    "        v1=_v1;\n",
    "    }\n",
    "    function get() public view returns(uint128) {\n",
    "        return v1;\n",
    "    }\n",
    "    function get7() public pure returns(uint128) {\n",
    "        return 7;\n",
    "    }\n",
    "}\n",
    "\n",
    "contract C2 {\n",
    "    C1 c1;\n",
    "    //function C2() public {  //0.4.21 constructor\n",
    "    constructor() public {    //0.6 constructor\n",
    "        c1=new C1();\n",
    "    }\n",
    "    function set(uint128 _v1) public {\n",
    "        c1.set(_v1);\n",
    "    }\n",
    "    function get() public view returns(uint128) {\n",
    "        return c1.get();\n",
    "    }\n",
    "    function get7() public view returns(uint128) {\n",
    "        return c1.get7();\n",
    "    }\n",
    "    function getC1Address() public view returns(address) {\n",
    "        return address(c1);\n",
    "    }\n",
    "}"
   ]
  },
  {
   "cell_type": "markdown",
   "metadata": {
    "slideshow": {
     "slide_type": "subslide"
    }
   },
   "source": [
    "### 단계 2: 컴파일\n",
    "\n",
    "다음과 같이 컴파일할 수 있다.\n",
    "로컬에서 설치된 solc보다 낮은 버전으로 컴파일 하려면 REMIX에서 버전을 낮추어 컴파일하고 ABI, bin을 가져온다.\n",
    "파일에 컨트랙이 2개 있으면, 컴파일한 ABI, bin도 2개가 생성된다."
   ]
  },
  {
   "cell_type": "code",
   "execution_count": 28,
   "metadata": {
    "collapsed": false,
    "scrolled": true
   },
   "outputs": [],
   "source": [
    "!solc src/C1C2.sol --combined-json abi,bin > src/C1C2.json"
   ]
  },
  {
   "cell_type": "markdown",
   "metadata": {
    "slideshow": {
     "slide_type": "subslide"
    }
   },
   "source": [
    "### 단계 3: 배포\n",
    "\n",
    "컴파일 한 후, C2의 abi, bin을 가져와서 배포를 한다."
   ]
  },
  {
   "cell_type": "code",
   "execution_count": 15,
   "metadata": {
    "collapsed": false
   },
   "outputs": [
    {
     "name": "stdout",
     "output_type": "stream",
     "text": [
      "Overwriting src/C1C2Deploy.js\n"
     ]
    }
   ],
   "source": [
    "%%writefile src/C1C2Deploy.js\n",
    "var Web3=require('web3');\n",
    "var web3=new Web3(new Web3.providers.HttpProvider(\"http://117.16.44.45:8345\"));\n",
    "var fs=require('fs');\n",
    "var _str = fs.readFileSync(\"src/C1C2.json\");\n",
    "var _json=JSON.parse(_str)\n",
    "//var _abiArray=JSON.parse(_json.contracts.sHello2.abi);\n",
    "var _abiArray=JSON.parse(_json.contracts[\"src/C1C2.sol:C2\"].abi);\n",
    "//var _bin=_json.contracts.sHello2.bin;\n",
    "var _bin=\"0x\"+_json.contracts[\"src/C1C2.sol:C2\"].bin;\n",
    "\n",
    "//unlock the account with a password provided\n",
    "//web3.personal.unlockAccount(web3.eth.accounts[0],'password');\n",
    "async function deploy() {\n",
    "    const accounts = await web3.eth.getAccounts();\n",
    "    console.log(\"Deploying the contract from \" + accounts[0]);\n",
    "    var deployed = await new web3.eth.Contract(_abiArray)\n",
    "        .deploy({data: _bin})\n",
    "        .send({from: accounts[0], gas: 1000000})\n",
    "        .on('transactionHash', function(hash){\n",
    "            console.log(\">>> transactionHash\"+hash);\n",
    "        })\n",
    "        .on('receipt', function(receipt){\n",
    "            console.log(\">>> RECEPIT hash: \" + receipt.transactionHash + \"\\n>>> address:\" + receipt.contractAddress);\n",
    "        })\n",
    "        .on('error', function(error, receipt) {\n",
    "            console.log(\">>> ERROR \"+error);\n",
    "        });\n",
    "        //.then(function(newContractInstance){\n",
    "        //    console.log(newContractInstance.options.address)\n",
    "        //});\n",
    "    console.log(\"---> The contract deployed to: \" + deployed.options.address)\n",
    "}\n",
    "deploy()"
   ]
  },
  {
   "cell_type": "code",
   "execution_count": 1,
   "metadata": {
    "collapsed": false
   },
   "outputs": [
    {
     "name": "stdout",
     "output_type": "stream",
     "text": [
      "Deploying the contract from 0xAD4c0912D2562b7072780A2F0FB2749D749B14fB\n",
      ">>> transactionHash0x2188f922e7158e4b24f754886a53b1a216d7249ec4959217341acb1833cf161d\n",
      ">>> RECEPIT hash: 0x2188f922e7158e4b24f754886a53b1a216d7249ec4959217341acb1833cf161d\n",
      ">>> address:0x83AA5DdD047fD1B931480A6A1557F6feb54Dec8b\n",
      "---> The contract deployed to: 0x83AA5DdD047fD1B931480A6A1557F6feb54Dec8b\n"
     ]
    }
   ],
   "source": [
    "!node src/C1C2Deploy.js"
   ]
  },
  {
   "cell_type": "markdown",
   "metadata": {
    "slideshow": {
     "slide_type": "subslide"
    }
   },
   "source": [
    "### 단계 4: 사용"
   ]
  },
  {
   "cell_type": "code",
   "execution_count": 2,
   "metadata": {
    "collapsed": false
   },
   "outputs": [
    {
     "name": "stdout",
     "output_type": "stream",
     "text": [
      "Overwriting src/C1C2Use.js\n"
     ]
    }
   ],
   "source": [
    "%%writefile src/C1C2Use.js\n",
    "var Web3=require('web3');\n",
    "var web3=new Web3(new Web3.providers.HttpProvider(\"http://117.16.44.45:8345\"));\n",
    "var fs=require('fs');\n",
    "var _str = fs.readFileSync(\"src/C1C2.json\");\n",
    "var _json=JSON.parse(_str)\n",
    "//var _abiArray=JSON.parse(_json.contracts.sHello2.abi);\n",
    "var _abiArray=JSON.parse(_json.contracts[\"src/C1C2.sol:C2\"].abi);\n",
    "\n",
    "var c2 = new web3.eth.Contract(_abiArray, \"0x83AA5DdD047fD1B931480A6A1557F6feb54Dec8b\");\n",
    "\n",
    "async function doIt() {\n",
    "    const accounts = await web3.eth.getAccounts();\n",
    "    console.log(\"Account: \" + accounts[0]);\n",
    "    const balanceBefore = await web3.eth.getBalance(accounts[0]);\n",
    "    console.log(\"Balance before: \" + balanceBefore);\n",
    "    c2.methods.get7().call().then(console.log);\n",
    "    await c2.methods.set(9).send({from: accounts[0],gas:50000});\n",
    "    c2.methods.get().call().then(console.log);\n",
    "    const balanceAfter = await web3.eth.getBalance(accounts[0]);\n",
    "    console.log(\"Balance after: \" + balanceAfter);\n",
    "    console.log(\"Balance diff: \" + (balanceBefore - balanceAfter));\n",
    "    //hello.methods.kill().send({from: accounts[0]})\n",
    "}\n",
    "\n",
    "doIt()\n"
   ]
  },
  {
   "cell_type": "code",
   "execution_count": 3,
   "metadata": {
    "collapsed": false
   },
   "outputs": [
    {
     "name": "stdout",
     "output_type": "stream",
     "text": [
      "Account: 0xAD4c0912D2562b7072780A2F0FB2749D749B14fB\n",
      "Balance before: 99990295100000000000\n",
      "7\n",
      "9\n",
      "Balance after: 99989414760000000000\n",
      "Balance diff: 880339999997952\n"
     ]
    }
   ],
   "source": [
    "!node src/C1C2Use.js"
   ]
  },
  {
   "cell_type": "markdown",
   "metadata": {
    "slideshow": {
     "slide_type": "slide"
    }
   },
   "source": [
    "## 실습: 컨트랙의 주소를 사용하여 컨트랙 결합\n",
    "\n",
    "앞서 ```new()``` 명령어는 소스코드를 포함할 수 있는 경우에 사용하였다.\n",
    "이번에는 이미 배포된 컨트랙을 결합하여 보자. 그렇다면 C2에 C1의 주소를 넘겨주어야 한다. 즉 C1을 배포하고 그 주소를 알야야 한다."
   ]
  },
  {
   "cell_type": "markdown",
   "metadata": {
    "slideshow": {
     "slide_type": "subslide"
    }
   },
   "source": [
    "### C1을 배포하고 주소를 구하기\n",
    "\n",
    "* 단계 1: 컨트랙 개발 (C1)"
   ]
  },
  {
   "cell_type": "code",
   "execution_count": 7,
   "metadata": {
    "collapsed": false
   },
   "outputs": [
    {
     "name": "stdout",
     "output_type": "stream",
     "text": [
      "Overwriting src/C1.sol\n"
     ]
    }
   ],
   "source": [
    "%%writefile src/C1.sol\n",
    "pragma solidity ^0.6;\n",
    "//pragma solidity 0.4.21;\n",
    "\n",
    "contract C1 {\n",
    "    uint128 v1;\n",
    "    function set(uint128 _v1) public {\n",
    "        v1=_v1;\n",
    "    }\n",
    "    function get() public view returns(uint128) {\n",
    "        return v1;\n",
    "    }\n",
    "    function get7() public pure returns(uint128) {\n",
    "        return 7;\n",
    "    }\n",
    "}"
   ]
  },
  {
   "cell_type": "markdown",
   "metadata": {
    "slideshow": {
     "slide_type": "subslide"
    }
   },
   "source": [
    "* 단계 2: 컴파일 (C1)\n",
    "\n",
    "REMIX에서 0.4.21로 컴파일한 후\n",
    "\n",
    "byzantium이 기본.\n",
    "solc --evm-version \"homestead\" --gas C1.sol"
   ]
  },
  {
   "cell_type": "code",
   "execution_count": 8,
   "metadata": {
    "collapsed": true
   },
   "outputs": [],
   "source": [
    "!solc src/C1.sol --combined-json abi,bin > src/C1.json"
   ]
  },
  {
   "cell_type": "code",
   "execution_count": 9,
   "metadata": {
    "collapsed": false
   },
   "outputs": [
    {
     "name": "stdout",
     "output_type": "stream",
     "text": [
      "{\"contracts\":{\"src/C1.sol:C1\":{\"abi\":\"[{\\\"inputs\\\":[],\\\"name\\\":\\\"get\\\",\\\"outputs\\\":[{\\\"internalType\\\":\\\"uint128\\\",\\\"name\\\":\\\"\\\",\\\"type\\\":\\\"uint128\\\"}],\\\"stateMutability\\\":\\\"view\\\",\\\"type\\\":\\\"function\\\"},{\\\"inputs\\\":[],\\\"name\\\":\\\"get7\\\",\\\"outputs\\\":[{\\\"internalType\\\":\\\"uint128\\\",\\\"name\\\":\\\"\\\",\\\"type\\\":\\\"uint128\\\"}],\\\"stateMutability\\\":\\\"pure\\\",\\\"type\\\":\\\"function\\\"},{\\\"inputs\\\":[{\\\"internalType\\\":\\\"uint128\\\",\\\"name\\\":\\\"_v1\\\",\\\"type\\\":\\\"uint128\\\"}],\\\"name\\\":\\\"set\\\",\\\"outputs\\\":[],\\\"stateMutability\\\":\\\"nonpayable\\\",\\\"type\\\":\\\"function\\\"}]\",\"bin\":\"608060405234801561001057600080fd5b506101a9806100206000396000f3fe608060405234801561001057600080fd5b50600436106100415760003560e01c8063086949b7146100465780634178462f146100885780636d4ce63c146100c8575b600080fd5b61004e61010a565b60405180826fffffffffffffffffffffffffffffffff166fffffffffffffffffffffffffffffffff16815260200191505060405180910390f35b6100c66004803603602081101561009e57600080fd5b8101908080356fffffffffffffffffffffffffffffffff169060200190929190505050610113565b005b6100d061014e565b60405180826fffffffffffffffffffffffffffffffff166fffffffffffffffffffffffffffffffff16815260200191505060405180910390f35b60006007905090565b806000806101000a8154816fffffffffffffffffffffffffffffffff02191690836fffffffffffffffffffffffffffffffff16021790555050565b60008060009054906101000a90046fffffffffffffffffffffffffffffffff1690509056fea2646970667358221220e32c55940d315a318b81f19380b97d0b3a7e46713f6ab3dd5dd0f2dd8c44633c64736f6c63430006010033\"}},\"version\":\"0.6.1+commit.e6f7d5a4.Linux.g++\"}\r\n"
     ]
    }
   ],
   "source": [
    "!cat src/C1.json"
   ]
  },
  {
   "cell_type": "markdown",
   "metadata": {
    "slideshow": {
     "slide_type": "subslide"
    }
   },
   "source": [
    "* 배포 (C1)"
   ]
  },
  {
   "cell_type": "code",
   "execution_count": 11,
   "metadata": {
    "collapsed": false
   },
   "outputs": [
    {
     "name": "stdout",
     "output_type": "stream",
     "text": [
      "Overwriting src/C1Deploy.js\n"
     ]
    }
   ],
   "source": [
    "%%writefile src/C1Deploy.js\n",
    "var Web3 = require('web3');\n",
    "var web3 = new Web3(new Web3.providers.HttpProvider(\"http://117.16.44.45:8345\"));\n",
    "var fs=require('fs');\n",
    "var _str = fs.readFileSync(\"src/C1.json\");\n",
    "var _json = JSON.parse(_str)\n",
    "//var _abiArray = JSON.parse(_json.contracts.sHello2.abi);\n",
    "var _abiArray = JSON.parse(_json.contracts[\"src/C1.sol:C1\"].abi);\n",
    "//var _bin = _json.contracts.sHello2.bin;\n",
    "var _bin = \"0x\"+_json.contracts[\"src/C1.sol:C1\"].bin;\n",
    "\n",
    "//unlock the account with a password provided\n",
    "//web3.personal.unlockAccount(web3.eth.accounts[0],'password');\n",
    "async function deploy() {\n",
    "    const accounts = await web3.eth.getAccounts();\n",
    "    console.log(\"Deploying the contract from \" + accounts[0]);\n",
    "    var deployed = await new web3.eth.Contract(_abiArray)\n",
    "        .deploy({data: _bin})\n",
    "        .send({from: accounts[0], gas: 1000000})\n",
    "        .on('transactionHash', function(hash){\n",
    "            console.log(\">>> transactionHash\" + hash);\n",
    "        })\n",
    "        .on('receipt', function(receipt){\n",
    "            console.log(\">>> RECEPIT hash: \" + receipt.transactionHash + \"\\n>>> address:\" + receipt.contractAddress);\n",
    "        })\n",
    "        .on('error', function(error, receipt) {\n",
    "            console.log(\">>> ERROR \" + error);\n",
    "        });\n",
    "        //.then(function(newContractInstance){\n",
    "        //    console.log(newContractInstance.options.address)\n",
    "        //});\n",
    "    console.log(\"---> The contract deployed to: \" + deployed.options.address)\n",
    "}\n",
    "deploy()\n"
   ]
  },
  {
   "cell_type": "markdown",
   "metadata": {},
   "source": [
    "C1Deploy.js를 한 줄씩 REPL할 수 있다. Mac에서 해보니 이유없이 ```Returned error: unknown account``` 오류를 발생하고 있다."
   ]
  },
  {
   "cell_type": "code",
   "execution_count": 12,
   "metadata": {
    "collapsed": false,
    "scrolled": false
   },
   "outputs": [
    {
     "name": "stdout",
     "output_type": "stream",
     "text": [
      "Deploying the contract from 0xAD4c0912D2562b7072780A2F0FB2749D749B14fB\r\n",
      ">>> transactionHash0x2b3ee36d75725837b00f422b23dd5db801e8c6d39a70a60cb117b041624acbb4\r\n",
      ">>> RECEPIT hash: 0x2b3ee36d75725837b00f422b23dd5db801e8c6d39a70a60cb117b041624acbb4\r\n",
      ">>> address:0xc71cC556bf5C9c4694062BF4752768F65d9349Dc\r\n",
      "---> The contract deployed to: 0xc71cC556bf5C9c4694062BF4752768F65d9349Dc\r\n"
     ]
    }
   ],
   "source": [
    "!node src/C1Deploy.js"
   ]
  },
  {
   "cell_type": "markdown",
   "metadata": {
    "slideshow": {
     "slide_type": "subslide"
    }
   },
   "source": [
    "* 사용 (C1)"
   ]
  },
  {
   "cell_type": "markdown",
   "metadata": {},
   "source": [
    "위 오류에도 불구하고 nodejs를 REPL로 해서 주소를 얻어서 복사해 넣고 아래를 실행하면 결과를 얻을 수 있다."
   ]
  },
  {
   "cell_type": "code",
   "execution_count": 15,
   "metadata": {
    "collapsed": false
   },
   "outputs": [
    {
     "name": "stdout",
     "output_type": "stream",
     "text": [
      "Overwriting src/C1Use.js\n"
     ]
    }
   ],
   "source": [
    "%%writefile src/C1Use.js\n",
    "var Web3=require('web3');\n",
    "var web3=new Web3(new Web3.providers.HttpProvider(\"http://117.16.44.45:8345\"));\n",
    "var fs=require('fs');\n",
    "var _str = fs.readFileSync(\"src/C1.json\");\n",
    "var _json=JSON.parse(_str)\n",
    "//var _abiArray=JSON.parse(_json.contracts.sHello2.abi);\n",
    "var _abiArray=JSON.parse(_json.contracts[\"src/C1.sol:C1\"].abi);\n",
    "\n",
    "var c1 = new web3.eth.Contract(_abiArray, \"0xc71cC556bf5C9c4694062BF4752768F65d9349Dc\");\n",
    "async function doIt() {\n",
    "    const accounts = await web3.eth.getAccounts();\n",
    "    console.log(\"Account: \" + accounts[0]);\n",
    "    const balanceBefore = await web3.eth.getBalance(accounts[0]);\n",
    "    console.log(\"Balance before: \" + balanceBefore);\n",
    "    c1.methods.get7().call().then(console.log);\n",
    "    await c1.methods.set(9).send({from: accounts[0],gas:50000});\n",
    "    c1.methods.get().call().then(console.log);\n",
    "    const balanceAfter = await web3.eth.getBalance(accounts[0]);\n",
    "    console.log(\"Balance after: \" + balanceAfter);\n",
    "    console.log(\"Balance diff: \" + (balanceBefore - balanceAfter));\n",
    "    //hello.methods.kill().send({from: accounts[0]})\n",
    "}\n",
    "\n",
    "doIt()\n"
   ]
  },
  {
   "cell_type": "code",
   "execution_count": 16,
   "metadata": {
    "collapsed": false
   },
   "outputs": [
    {
     "name": "stdout",
     "output_type": "stream",
     "text": [
      "Account: 0xAD4c0912D2562b7072780A2F0FB2749D749B14fB\n",
      "Balance before: 99986065100000000000\n",
      "7\n",
      "9\n",
      "Balance after: 99985225800000000000\n",
      "Balance diff: 839300000006144\n"
     ]
    }
   ],
   "source": [
    "!node src/C1Use.js"
   ]
  },
  {
   "cell_type": "markdown",
   "metadata": {
    "slideshow": {
     "slide_type": "subslide"
    }
   },
   "source": [
    "### 단계 1: 컨트랙 개발 (C2)\n",
    "\n",
    "```C1```과 ```C2```를 결합하는 소스코드를 구현해보자.\n",
    "```C1```은 이미 배포가 되었고, 그 주소를 받을 수 있는 기능이 필요하다.\n",
    "이 경우 ```C1```의 abi를 모르면 ```C2```를 컴파일을 할 수 없다.\n",
    "예를 들어 ```C1```의 함수 ```c1.get7()```를 모르면, C2의 ```get7()```을 컴파일 할 수 없게 된다.\n",
    "\n",
    "앞서 ```C1.sol```, ```C2.sol```을 한 파일 안에 적어주지 않고,\n",
    "```import```문으로 ```C1```을 포함한다.\n",
    "이 경우 ```import C1.sol```이라고 해주지 않고, 현재 파일의 상대 디렉토리 ```import \"./C1.sol\"```로 적어준다.\n",
    "\n",
    "구분 | 사용 예 | 이유\n",
    "-----|-----|-----\n",
    "올바른 사용 | ```import \"./C1.sol\"``` | 상대 디렉토리로 적어주면 ```C1.sol```을 못 찾는다.\n",
    "올바르지 않은 사용 | ```import \"C1.sol\"``` | 상대 디렉토리가 아니라서 오류가 발생"
   ]
  },
  {
   "cell_type": "code",
   "execution_count": 17,
   "metadata": {
    "collapsed": false
   },
   "outputs": [
    {
     "name": "stdout",
     "output_type": "stream",
     "text": [
      "Overwriting src/C2.sol\n"
     ]
    }
   ],
   "source": [
    "%%writefile src/C2.sol\n",
    "pragma solidity 0.6;\n",
    "//pragma solidity 0.4.21;\n",
    "import \"./C1.sol\";\n",
    "\n",
    "contract C2 {\n",
    "    C1 c1;\n",
    "    //function C2() public {  //0.4.21 constructor\n",
    "    constructor() public {    //0.6 constructor\n",
    "        c1=new C1();\n",
    "    }\n",
    "    function setC1(address _addressOfC1) public {\n",
    "        c1 = C1(_addressOfC1);\n",
    "    }\n",
    "    function set(uint128 _v1) public {\n",
    "        c1.set(_v1);\n",
    "    }\n",
    "    function get() public view returns(uint128) {\n",
    "        return c1.get();\n",
    "    }\n",
    "    function get7() public view returns(uint128) {\n",
    "        return c1.get7();\n",
    "    }\n",
    "    function getC1Address() public view returns(address) {\n",
    "        return address(c1);\n",
    "    }\n",
    "}"
   ]
  },
  {
   "cell_type": "markdown",
   "metadata": {
    "slideshow": {
     "slide_type": "subslide"
    }
   },
   "source": [
    "### 단계 2: 컴파일 (C2)\n",
    "\n",
    "C2를 컴파일한다."
   ]
  },
  {
   "cell_type": "code",
   "execution_count": 18,
   "metadata": {
    "collapsed": false
   },
   "outputs": [],
   "source": [
    "!solc src/C2.sol --combined-json abi,bin > src/C2.json"
   ]
  },
  {
   "cell_type": "markdown",
   "metadata": {
    "slideshow": {
     "slide_type": "subslide"
    }
   },
   "source": [
    "### 단계 3: 배포"
   ]
  },
  {
   "cell_type": "code",
   "execution_count": 20,
   "metadata": {
    "collapsed": false
   },
   "outputs": [
    {
     "name": "stdout",
     "output_type": "stream",
     "text": [
      "Overwriting src/C2Deploy.js\n"
     ]
    }
   ],
   "source": [
    "%%writefile src/C2Deploy.js\n",
    "var Web3 = require('web3');\n",
    "var web3 = new Web3(new Web3.providers.HttpProvider(\"http://117.16.44.45:8345\"));\n",
    "var fs=require('fs');\n",
    "var _str = fs.readFileSync(\"src/C2.json\");\n",
    "var _json = JSON.parse(_str)\n",
    "//var _abiArray = JSON.parse(_json.contracts.sHello2.abi);\n",
    "var _abiArray = JSON.parse(_json.contracts[\"src/C2.sol:C2\"].abi);\n",
    "//var _bin = _json.contracts.sHello2.bin;\n",
    "var _bin = \"0x\"+_json.contracts[\"src/C2.sol:C2\"].bin;\n",
    "\n",
    "//unlock the account with a password provided\n",
    "//web3.personal.unlockAccount(web3.eth.accounts[0],'password');\n",
    "async function deploy() {\n",
    "    const accounts = await web3.eth.getAccounts();\n",
    "    console.log(\"Deploying the contract from \" + accounts[0]);\n",
    "    var deployed = await new web3.eth.Contract(_abiArray)\n",
    "        .deploy({data: _bin})\n",
    "        .send({from: accounts[0], gas: 1000000})\n",
    "        .on('transactionHash', function(hash){\n",
    "            console.log(\">>> transactionHash\" + hash);\n",
    "        })\n",
    "        .on('receipt', function(receipt){\n",
    "            console.log(\">>> RECEPIT hash: \" + receipt.transactionHash + \"\\n>>> address:\" + receipt.contractAddress);\n",
    "        })\n",
    "        .on('error', function(error, receipt) {\n",
    "            console.log(\">>> ERROR \" + error);\n",
    "        });\n",
    "        //.then(function(newContractInstance){\n",
    "        //    console.log(newContractInstance.options.address)\n",
    "        //});\n",
    "    console.log(\"---> The contract deployed to: \" + deployed.options.address)\n",
    "}\n",
    "deploy()\n"
   ]
  },
  {
   "cell_type": "code",
   "execution_count": 46,
   "metadata": {
    "collapsed": false
   },
   "outputs": [
    {
     "name": "stdout",
     "output_type": "stream",
     "text": [
      "Deploying the contract from 0xAD4c0912D2562b7072780A2F0FB2749D749B14fB\n",
      ">>> transactionHash0xa590fbd70cb5e86b8d80c25212ce83891136d2c4a40aff8952a9916cf81fd049\n",
      ">>> RECEPIT hash: 0xa590fbd70cb5e86b8d80c25212ce83891136d2c4a40aff8952a9916cf81fd049\n",
      ">>> address:0xe812078c783942dA662E89acF3351d0Fbf16cF81\n",
      "---> The contract deployed to: 0xe812078c783942dA662E89acF3351d0Fbf16cF81\n"
     ]
    }
   ],
   "source": [
    "!node src/C2Deploy.js"
   ]
  },
  {
   "cell_type": "markdown",
   "metadata": {
    "slideshow": {
     "slide_type": "subslide"
    }
   },
   "source": [
    "### 단계 4: 사용\n",
    "\n",
    "줄 | 함수 | 설명\n",
    "-----|-----|-----\n",
    "16 | ```c2.methods.getC1Address().call()``` | 생성자에서 ```new``` 명령어로 생성된 ```C1```의 주소를 출력. 단, ```C2```를 배포하고 첫 회 실행할 때만 유효하고, 2회부터는 이전에 실행된 ```setC1()```의 결과인 이전 ```C1```의 주소가 출력된다.\n",
    "19 | ```c2.methods.get7().call()``` | ```await```로 하지 않으면 실행 순서가 늦춰질 수 있다.\n",
    "21 | c2.methods.setC1() | 생성자에서 설정한 C1을 제거하고, 위에서 블록체인에 배포한 C1의 주소를 사용하여 교체한다."
   ]
  },
  {
   "cell_type": "code",
   "execution_count": 47,
   "metadata": {
    "collapsed": false
   },
   "outputs": [
    {
     "name": "stdout",
     "output_type": "stream",
     "text": [
      "Overwriting src/C2Use.js\n"
     ]
    }
   ],
   "source": [
    "%%writefile src/C2Use.js\n",
    "var Web3=require('web3');\n",
    "var web3 = new Web3(new Web3.providers.HttpProvider(\"http://117.16.44.45:8345\"));\n",
    "var fs=require('fs');\n",
    "var _str = fs.readFileSync(\"src/C2.json\");\n",
    "var _json = JSON.parse(_str)\n",
    "//var _abiArray = JSON.parse(_json.contracts.sHello2.abi);\n",
    "var _abiArray = JSON.parse(_json.contracts[\"src/C2.sol:C2\"].abi);\n",
    "\n",
    "var c2 = new web3.eth.Contract(_abiArray, \"0xe812078c783942dA662E89acF3351d0Fbf16cF81\");\n",
    "async function doIt() {\n",
    "    const accounts = await web3.eth.getAccounts();\n",
    "    console.log(\"Account: \" + accounts[0]);\n",
    "    const balanceBefore = await web3.eth.getBalance(accounts[0]);\n",
    "    console.log(\"Balance before: \" + balanceBefore);\n",
    "    console.log(\"--- new C1 ---\");\n",
    "    await c2.methods.getC1Address().call(function(err, c1addr) {\n",
    "        if(!err) console.log(\"c1 address by 'new': \"+c1addr);\n",
    "    });\n",
    "    await c2.methods.get7().call().then(console.log);\n",
    "    console.log(\"--- set the above deployed address of C1 ---\");\n",
    "    await c2.methods.setC1(\"0xc71cC556bf5C9c4694062BF4752768F65d9349Dc\").send({from:accounts[0], gas:50000});\n",
    "    await c2.methods.getC1Address().call(function(err, c1addr) {\n",
    "        if(!err) console.log(\"c1 address by 'setC1()': \"+c1addr);\n",
    "    });\n",
    "    c2.methods.get7().call().then(console.log);\n",
    "    await c2.methods.set(222).send({from: accounts[0],gas:50000});\n",
    "    c2.methods.get().call().then(console.log);\n",
    "    const balanceAfter = await web3.eth.getBalance(accounts[0]);\n",
    "    console.log(\"Balance after: \" + balanceAfter);\n",
    "    console.log(\"Balance diff: \" + (balanceBefore - balanceAfter));\n",
    "    //hello.methods.kill().send({from: accounts[0]})\n",
    "}\n",
    "\n",
    "doIt()\n"
   ]
  },
  {
   "cell_type": "code",
   "execution_count": 48,
   "metadata": {
    "collapsed": false
   },
   "outputs": [
    {
     "name": "stdout",
     "output_type": "stream",
     "text": [
      "Account: 0xAD4c0912D2562b7072780A2F0FB2749D749B14fB\n",
      "Balance before: 99945866560000000000\n",
      "--- new C1 ---\n",
      "c1 address by 'new': 0x6BA98F59D5E3dDd9a3A38727e04dFDC4C4bE9D16\n",
      "7\n",
      "--- set the above deployed address of C1 ---\n",
      "c1 address by 'setC1()': 0xc71cC556bf5C9c4694062BF4752768F65d9349Dc\n",
      "7\n",
      "222\n",
      "Balance after: 99944817720000000000\n",
      "Balance diff: 1048839999995904\n"
     ]
    }
   ],
   "source": [
    "!node src/C2Use.js"
   ]
  },
  {
   "cell_type": "markdown",
   "metadata": {},
   "source": [
    "2회를 실행하면 아래에서 보는 것처럼 C1의 주소가 같아진다.\n",
    "2회부터는 이전에 실행된 ```setC1()```의 결과인 이전 ```C1```의 주소로 설정되어 출력된다.\n",
    "생성자가 최초에만 호출되기 때문이다.\n",
    "\n",
    "다시 생성자를 호출하여 ```C1```의 주소를 설정하려면, C2를 다시 배포한 후 그 주소로 ```C2Use.js```를 실행하면 된다."
   ]
  },
  {
   "cell_type": "code",
   "execution_count": 49,
   "metadata": {
    "collapsed": false
   },
   "outputs": [
    {
     "name": "stdout",
     "output_type": "stream",
     "text": [
      "Account: 0xAD4c0912D2562b7072780A2F0FB2749D749B14fB\n",
      "Balance before: 99944817720000000000\n",
      "--- new C1 ---\n",
      "c1 address by 'new': 0xc71cC556bf5C9c4694062BF4752768F65d9349Dc\n",
      "7\n",
      "--- set the above deployed address of C1 ---\n",
      "c1 address by 'setC1()': 0xc71cC556bf5C9c4694062BF4752768F65d9349Dc\n",
      "7\n",
      "222\n",
      "Balance after: 99943864880000000000\n",
      "Balance diff: 952839999995904\n"
     ]
    }
   ],
   "source": [
    "!node src/C2Use.js"
   ]
  },
  {
   "cell_type": "code",
   "execution_count": null,
   "metadata": {
    "collapsed": true
   },
   "outputs": [],
   "source": []
  },
  {
   "cell_type": "markdown",
   "metadata": {
    "slideshow": {
     "slide_type": "slide"
    }
   },
   "source": [
    "## 실습: 자동차와 엔진 컨트랙: new 명령어 사용\n",
    "\n",
    "동일한 파일에 2개의 컨트랙을 넣어서 개발해 보자."
   ]
  },
  {
   "cell_type": "markdown",
   "metadata": {
    "slideshow": {
     "slide_type": "subslide"
    }
   },
   "source": [
    "### 단계 1: 컨트랙 개발\n",
    "\n",
    "Line | 설명\n",
    "-----|-----\n",
    "1 | major version 6 이상 최신으로 컴파일\n",
    "2 | contract 명. 컨트랙이 2개 포함된 경우, 파일명과 반드시 일치할 필요가 없다.\n",
    "4 | ```Engine```을 포함하고, ```constructor```에서 할당한다.\n",
    "26 ~ 31 | ```start()```은 ```engineObj.on()``` 엔진을 켠다. 그리고 엔진상태를 이벤트로 발생한다.\n",
    "52 ~ 60 | ```speed```가 0 ~ 최대속도 범위 내에서 속도를 증감하도록 한다. 감속을 위해 음수를 사용할 수 있도록 ```int```를 적용하면 ```uint```로 형변환이 필요함."
   ]
  },
  {
   "cell_type": "code",
   "execution_count": 15,
   "metadata": {
    "collapsed": false
   },
   "outputs": [
    {
     "name": "stdout",
     "output_type": "stream",
     "text": [
      "Overwriting src/Car.sol\n"
     ]
    }
   ],
   "source": [
    "%%writefile src/Car.sol\n",
    "pragma solidity ^0.6.0;\n",
    "//pragma solidity 0.4.21;\n",
    "contract Car {\n",
    "    Engine engineObj;\n",
    "    string private color;\n",
    "    event PrintLog(address sender, string msg);\n",
    "\n",
    "    constructor() public {\n",
    "        engineObj = new Engine();\n",
    "    }\n",
    "    function setColor(string memory _color) public {\n",
    "        color=_color;\n",
    "    }\n",
    "    function getColor() public view returns(string memory) {\n",
    "        return color;\n",
    "    }\n",
    "    function getSpeed() public view returns(uint) {\n",
    "        return engineObj.getSpeed();\n",
    "    }\n",
    "    function speedUpBy10() public {\n",
    "        engineObj.setSpeedUpBy(10);\n",
    "    }\n",
    "    function speedDownBy10() public {\n",
    "        engineObj.setSpeedDownBy(10);   \n",
    "    }\n",
    "    function start() public {\n",
    "        engineObj.on();\n",
    "        //convert bool to string\n",
    "        string memory engineStateStr=engineObj.getEngineState()? \"on\" : \"off\";\n",
    "        emit PrintLog(msg.sender, engineStateStr);\n",
    "    }\n",
    "}\n",
    "\n",
    "contract Engine {\n",
    "    uint constant private MAXSPEED = 200;\n",
    "    uint private speed;\n",
    "    bool private engineState;\n",
    "\n",
    "    constructor() public {\n",
    "        speed = 0;\n",
    "        off();\n",
    "    }\n",
    "    function on() public {\n",
    "        engineState = true;\n",
    "    }\n",
    "    function off() public {\n",
    "        engineState = false;\n",
    "    }\n",
    "    function getEngineState() public view returns(bool){\n",
    "        return engineState;\n",
    "    }\n",
    "    function setSpeedUpBy(uint _speed) public {\n",
    "        if(speed < (MAXSPEED - 10) && engineState == true)\n",
    "            speed += _speed;\n",
    "    }\n",
    "    // int _speed -> needs casting to uint (speed)\n",
    "    function setSpeedDownBy(uint _speed) public {\n",
    "        if((speed - 10) > 0  && engineState == true)\n",
    "            speed -= _speed;\n",
    "    }\n",
    "    function getSpeed() public view returns(uint) {\n",
    "        return speed;\n",
    "    }\n",
    "}"
   ]
  },
  {
   "cell_type": "markdown",
   "metadata": {
    "slideshow": {
     "slide_type": "subslide"
    }
   },
   "source": [
    "### 단계 2: 컴파일\n",
    "\n",
    "현재 설치되어 있는 버전 0.6으로 컴파일 해서, abi, bin을 구한다.\n",
    "버전이 다른 경우, REMIX에서 컴파일한다."
   ]
  },
  {
   "cell_type": "code",
   "execution_count": 16,
   "metadata": {
    "collapsed": false
   },
   "outputs": [],
   "source": [
    "!solc src/Car.sol --combined-json abi,bin > src/Car.json"
   ]
  },
  {
   "cell_type": "markdown",
   "metadata": {
    "slideshow": {
     "slide_type": "subslide"
    }
   },
   "source": [
    "### 단계 3: 배포"
   ]
  },
  {
   "cell_type": "code",
   "execution_count": 1,
   "metadata": {
    "collapsed": false
   },
   "outputs": [
    {
     "name": "stdout",
     "output_type": "stream",
     "text": [
      "Overwriting src/carDeploy.js\n"
     ]
    }
   ],
   "source": [
    "%%writefile src/carDeploy.js\n",
    "var Web3=require('web3');\n",
    "var web3=new Web3(new Web3.providers.HttpProvider(\"http://117.16.44.45:8345\"));\n",
    "var fs=require('fs');\n",
    "var _str = fs.readFileSync(\"src/Car.json\");\n",
    "var _json=JSON.parse(_str)\n",
    "//var _abiArray=JSON.parse(_json.contracts.sHello2.abi);\n",
    "var _abiArray=JSON.parse(_json.contracts[\"src/Car.sol:Car\"].abi);\n",
    "//var _bin=_json.contracts.sHello2.bin;\n",
    "var _bin=\"0x\"+_json.contracts[\"src/Car.sol:Car\"].bin;\n",
    "\n",
    "//unlock the account with a password provided\n",
    "//web3.personal.unlockAccount(web3.eth.accounts[0],'password');\n",
    "async function deploy() {\n",
    "    const accounts = await web3.eth.getAccounts();\n",
    "    console.log(\"Deploying the contract from \" + accounts[0]);\n",
    "    var deployed = await new web3.eth.Contract(_abiArray)\n",
    "        .deploy({data: _bin})\n",
    "        .send({from: accounts[0], gas: 1000000})\n",
    "        .on('transactionHash', function(hash){\n",
    "            console.log(\">>> transactionHash\"+hash);\n",
    "        })\n",
    "        .on('receipt', function(receipt){\n",
    "            console.log(\">>> RECEPIT hash: \" + receipt.transactionHash + \"\\n>>> address:\" + receipt.contractAddress);\n",
    "        })\n",
    "        .on('error', function(error, receipt) {\n",
    "            console.log(\">>> ERROR \"+error);\n",
    "        });\n",
    "        //.then(function(newContractInstance){\n",
    "        //    console.log(newContractInstance.options.address)\n",
    "        //});\n",
    "    console.log(\"---> The contract deployed to: \" + deployed.options.address)\n",
    "}\n",
    "deploy()\n"
   ]
  },
  {
   "cell_type": "code",
   "execution_count": 2,
   "metadata": {
    "collapsed": false
   },
   "outputs": [
    {
     "name": "stdout",
     "output_type": "stream",
     "text": [
      "Deploying the contract from 0x6DbfE74e38B1157F5AFA5F9122AD9C56671Fc50E\n",
      ">>> transactionHash0xf23a81b3f842ebbf385065f238dae116b768ba48c7d8e2b3c87b428ea48ef814\n",
      ">>> RECEPIT hash: 0xf23a81b3f842ebbf385065f238dae116b768ba48c7d8e2b3c87b428ea48ef814\n",
      ">>> address:0xd47b1A1c9D52730F6D8c44247241f3CC2786B9E9\n",
      "---> The contract deployed to: 0xd47b1A1c9D52730F6D8c44247241f3CC2786B9E9\n"
     ]
    }
   ],
   "source": [
    "!node src/carDeploy.js"
   ]
  },
  {
   "cell_type": "markdown",
   "metadata": {
    "slideshow": {
     "slide_type": "subslide"
    }
   },
   "source": [
    "### 단계 4: 사용\n",
    "아래를 실행하면 다음 결과\n",
    "\n",
    "```python\n",
    "> car.getColor.call();\n",
    "'RED'\n",
    "```"
   ]
  },
  {
   "cell_type": "code",
   "execution_count": 1,
   "metadata": {
    "collapsed": false
   },
   "outputs": [
    {
     "name": "stdout",
     "output_type": "stream",
     "text": [
      "Overwriting src/carUse.js\n"
     ]
    }
   ],
   "source": [
    "%%writefile src/carUse.js\n",
    "var Web3=require('web3');\n",
    "//var web3=new Web3(new Web3.providers.HttpProvider(\"http://117.16.44.45:8345\"));         //nok\n",
    "//var web3 = new Web3(new Web3.providers.WebsocketProvider(\"http://117.16.44.45:8345\"));  //ok\n",
    "var web3 = new Web3(new Web3.providers.WebsocketProvider(\"ws://117.16.44.45:8345\"));\n",
    "var fs=require('fs');\n",
    "var _str = fs.readFileSync(\"src/Car.json\");\n",
    "var _json=JSON.parse(_str)\n",
    "//var _abiArray=JSON.parse(_json.contracts.sHello2.abi);\n",
    "var _abiArray=JSON.parse(_json.contracts[\"src/Car.sol:Car\"].abi);\n",
    "\n",
    "async function doIt() {\n",
    "    var car = new web3.eth.Contract(_abiArray, \"0xd47b1A1c9D52730F6D8c44247241f3CC2786B9E9\");\n",
    "    car.events.PrintLog({fromBlock: 'latest', toBlock:'pending'}, function (error, event) {\n",
    "            console.log(\">>> Event fired: \" + JSON.stringify(event.returnValues));\n",
    "        }).on('>> data', function(event){\n",
    "            console.log(event); // same results as the optional callback above\n",
    "        }).on('>> changed', function(event){\n",
    "            console.log(event); // remove event from local database\n",
    "        }).on('>> error', console.error);\n",
    "\n",
    "    var speed;\n",
    "    const accounts = await web3.eth.getAccounts();\n",
    "    console.log(\"Account: \" + accounts[0]);\n",
    "    const balanceBefore = await web3.eth.getBalance(accounts[0]);\n",
    "    console.log(\"Balance before: \" + balanceBefore);\n",
    "    car.methods.setColor(\"RED\").send({from: accounts[0], gas:100000});\n",
    "    car.methods.getColor().call().then(console.log);\n",
    "    await car.methods.start().send({from: accounts[0], gas:100000})\n",
    "    await car.methods.speedUpBy10().send({from: accounts[0], gas:100000})\n",
    "    car.methods.getSpeed().call().then(function(speed) { console.log(\"-> speed: \" + speed) });\n",
    "    await car.methods.start().send({from: accounts[0], gas:100000})\n",
    "    await car.methods.speedUpBy10().send({from: accounts[0], gas:100000})\n",
    "    car.methods.getSpeed().call().then(function(speed) { console.log(\"-> speed: \" + speed) });\n",
    "    await car.methods.speedDownBy10().send({from: accounts[0], gas:100000})\n",
    "    car.methods.getSpeed().call().then(function(speed) { console.log(\"-> speed: \" + speed) });\n",
    "    const balanceAfter = await web3.eth.getBalance(accounts[0]);\n",
    "    console.log(\"Balance after: \" + balanceAfter);\n",
    "    console.log(\"Balance diff: \" + (balanceBefore - balanceAfter));\n",
    "}\n",
    "\n",
    "doIt()\n"
   ]
  },
  {
   "cell_type": "code",
   "execution_count": null,
   "metadata": {
    "collapsed": false
   },
   "outputs": [
    {
     "name": "stdout",
     "output_type": "stream",
     "text": [
      "Account: 0x6DbfE74e38B1157F5AFA5F9122AD9C56671Fc50E\n",
      "Balance before: 99956307280000000000\n",
      "RED\n",
      ">>> Event fired: {\"0\":\"0x6DbfE74e38B1157F5AFA5F9122AD9C56671Fc50E\",\"1\":\"on\",\"sender\":\"0x6DbfE74e38B1157F5AFA5F9122AD9C56671Fc50E\",\"msg\":\"on\"}\n",
      "-> speed: 90\n",
      ">>> Event fired: {\"0\":\"0x6DbfE74e38B1157F5AFA5F9122AD9C56671Fc50E\",\"1\":\"on\",\"sender\":\"0x6DbfE74e38B1157F5AFA5F9122AD9C56671Fc50E\",\"msg\":\"on\"}\n",
      "-> speed: 100\n",
      "-> speed: 90\n",
      "Balance after: 99952940540000000000\n",
      "Balance diff: 3366739999997952\n"
     ]
    }
   ],
   "source": [
    "!node src/carUse.js"
   ]
  },
  {
   "cell_type": "markdown",
   "metadata": {
    "slideshow": {
     "slide_type": "slide"
    }
   },
   "source": [
    "## 실습: 사각형과 면적 컨트랙: new 명령어 사용\n",
    "\n",
    "SquareArea passing address"
   ]
  },
  {
   "cell_type": "markdown",
   "metadata": {
    "slideshow": {
     "slide_type": "subslide"
    }
   },
   "source": [
    "### 단계 1: 컨트랙 개발"
   ]
  },
  {
   "cell_type": "code",
   "execution_count": 1,
   "metadata": {
    "collapsed": false,
    "slideshow": {
     "slide_type": "-"
    }
   },
   "outputs": [
    {
     "name": "stdout",
     "output_type": "stream",
     "text": [
      "Overwriting src/SquareArea.sol\n"
     ]
    }
   ],
   "source": [
    "%%writefile src/SquareArea.sol\n",
    "pragma solidity ^0.6.0;\n",
    "//pragma solidity 0.4.21;\n",
    "\n",
    "contract Square {\n",
    "    uint128 length;\n",
    "    function getLength() public view returns(uint128) {\n",
    "        return length;\n",
    "    }\n",
    "    function setLength(uint128 _length) public {\n",
    "        length=_length;\n",
    "    }\n",
    "    function getDegree() public pure returns(uint128) {\n",
    "        return 90;\n",
    "    }\n",
    "}\n",
    "\n",
    "contract Area {\n",
    "    Square s;\n",
    "    address owner;\n",
    "    //event PrintLog(uint128);\n",
    "    //function Area() public {\n",
    "    constructor() public {\n",
    "        s = new Square();\n",
    "        owner = msg.sender;\n",
    "    }\n",
    "    function changeSquare(address _addressOfSquare) public {\n",
    "        s=Square(_addressOfSquare);\n",
    "    }\n",
    "    function calcArea() view public returns(uint128) {\n",
    "        uint128 length = s.getLength();\n",
    "        uint128 area = length*length;\n",
    "        //emit PrintLog(area);\n",
    "        return area;\n",
    "    }\n",
    "    function setLength(uint128 _length) public {\n",
    "        s.setLength(_length);\n",
    "    }\n",
    "    function getLength() public view returns(uint128) {\n",
    "        return s.getLength();\n",
    "    }\n",
    "    function getDegree() public view returns(uint128) {\n",
    "        return s.getDegree();\n",
    "    }\n",
    "    function getAddressOfSquare() public view returns(address) {\n",
    "        return address(s);\n",
    "    }\n",
    "}\n"
   ]
  },
  {
   "cell_type": "markdown",
   "metadata": {
    "scrolled": true,
    "slideshow": {
     "slide_type": "subslide"
    }
   },
   "source": [
    "### 단계 2: 컴파일\n"
   ]
  },
  {
   "cell_type": "code",
   "execution_count": 2,
   "metadata": {
    "collapsed": false
   },
   "outputs": [],
   "source": [
    "!solc src/SquareArea.sol --combined-json abi,bin > src/SquareArea.json"
   ]
  },
  {
   "cell_type": "markdown",
   "metadata": {
    "slideshow": {
     "slide_type": "subslide"
    }
   },
   "source": [
    "### 단계 3: 컨트랙 배포"
   ]
  },
  {
   "cell_type": "code",
   "execution_count": 10,
   "metadata": {
    "collapsed": false
   },
   "outputs": [
    {
     "name": "stdout",
     "output_type": "stream",
     "text": [
      "Overwriting src/SquareAreaDeploy.js\n"
     ]
    }
   ],
   "source": [
    "%%writefile src/SquareAreaDeploy.js\n",
    "var Web3 = require('web3');\n",
    "var web3 = new Web3(new Web3.providers.HttpProvider(\"http://117.16.44.45:8345\"));\n",
    "var fs=require('fs');\n",
    "var _str = fs.readFileSync(\"src/SquareArea.json\");\n",
    "var _json=JSON.parse(_str)\n",
    "//var _abiArray = JSON.parse(_json.contracts.sHello2.abi);\n",
    "var _abiArray = JSON.parse(_json.contracts[\"src/SquareArea.sol:Area\"].abi);\n",
    "//var _bin = _json.contracts.sHello2.bin;\n",
    "var _bin = \"0x\" + _json.contracts[\"src/SquareArea.sol:Area\"].bin;\n",
    "\n",
    "//unlock the account with a password provided\n",
    "//web3.personal.unlockAccount(web3.eth.accounts[0],'password');\n",
    "async function deploy() {\n",
    "    const accounts = await web3.eth.getAccounts();\n",
    "    console.log(\"Deploying the contract from \" + accounts[0]);\n",
    "    var deployed = await new web3.eth.Contract(_abiArray)\n",
    "        .deploy({data: _bin})\n",
    "        .send({from: accounts[0], gas: 1000000})\n",
    "        .on('transactionHash', function(hash){\n",
    "            console.log(\">>> transactionHash\"+hash);\n",
    "        })\n",
    "        .on('receipt', function(receipt){\n",
    "            console.log(\">>> RECEPIT hash: \" + receipt.transactionHash + \"\\n>>> address:\" + receipt.contractAddress);\n",
    "        })\n",
    "        .on('error', function(error, receipt) {\n",
    "            console.log(\">>> ERROR \"+error);\n",
    "        });\n",
    "        //.then(function(newContractInstance){\n",
    "        //    console.log(newContractInstance.options.address)\n",
    "        //});\n",
    "    console.log(\"---> The contract deployed to: \" + deployed.options.address)\n",
    "}\n",
    "\n",
    "deploy()\n"
   ]
  },
  {
   "cell_type": "code",
   "execution_count": 11,
   "metadata": {
    "collapsed": false
   },
   "outputs": [
    {
     "name": "stdout",
     "output_type": "stream",
     "text": [
      "Deploying the contract from 0x0A2aca05EB30707F09C883A4b1881F775ACA4Fa8\n",
      ">>> transactionHash0xd5a4bd2033ddf42c43703f09687ac7475def381779ba5e976a17eca6e55743d4\n",
      ">>> RECEPIT hash: 0xd5a4bd2033ddf42c43703f09687ac7475def381779ba5e976a17eca6e55743d4\n",
      ">>> address:0x99c9e13Fb74Ec1B86Df5712CDF382757788C235C\n",
      "---> The contract deployed to: 0x99c9e13Fb74Ec1B86Df5712CDF382757788C235C\n"
     ]
    }
   ],
   "source": [
    "!node src/SquareAreaDeploy.js"
   ]
  },
  {
   "cell_type": "markdown",
   "metadata": {
    "slideshow": {
     "slide_type": "subslide"
    }
   },
   "source": [
    "### 단계 4: 사용"
   ]
  },
  {
   "cell_type": "code",
   "execution_count": null,
   "metadata": {
    "collapsed": true
   },
   "outputs": [],
   "source": [
    "```python\n",
    "> area.methods.getDegree().call().then(console.log);\n",
    "> 90\n",
    "> area.methods.setLength(9).send({from:\"0x9cd639aac746b3bbc85e386c05cf1ac74925112e\"});\n",
    "> //miner.start(1);admin.sleepBlocks(1);miner.stop();\n",
    "undefined\n",
    "> area.methods.getLength().call().then(console.log);\n",
    "> 9\n",
    "> area.methods.calcArea().send({from:\"0x9cd639aac746b3bbc85e386c05cf1ac74925112e\"});\n",
    "> //miner.start(1);admin.sleepBlocks(1);miner.stop();\n",
    "undefined\n",
    "> area.methods.calcArea().call().then(console.log);           로컬에서 처리되기 때문에 이전 면적계산 값 81을 반환\n",
    "> 81\n",
    "> area.methods.getAddressOfSquare().call().then(console.log);\n",
    "> 0x9f75D1A80D5715EED0962dd72d1d4E409DaCF037\n",
    "```"
   ]
  },
  {
   "cell_type": "markdown",
   "metadata": {
    "slideshow": {
     "slide_type": "subslide"
    }
   },
   "source": [
    "처음 실행하면 길이는 0이다. 그 다음 실행하면 9가 된다. 그 이유는 asynch방식이라 마이닝하지 않고 연달아 시행하면 마이닝 전의 결과가 나오기 때문에 그렇다."
   ]
  },
  {
   "cell_type": "code",
   "execution_count": 12,
   "metadata": {
    "collapsed": false
   },
   "outputs": [
    {
     "name": "stdout",
     "output_type": "stream",
     "text": [
      "Overwriting src/SquareAreaUse.js\n"
     ]
    }
   ],
   "source": [
    "%%writefile src/SquareAreaUse.js\n",
    "var Web3 = require('web3');\n",
    "//var web3 = new Web3(new Web3.providers.HttpProvider(\"http://117.16.44.45:8345\"));         //nok\n",
    "//var web3 = new Web3(new Web3.providers.WebsocketProvider(\"http://117.16.44.45:8345\"));  //ok\n",
    "var web3 = new Web3(new Web3.providers.WebsocketProvider(\"ws://117.16.44.45:8345\"));\n",
    "var fs=require('fs');\n",
    "var _str = fs.readFileSync(\"src/SquareArea.json\");\n",
    "var _json = JSON.parse(_str)\n",
    "//var _abiArray = JSON.parse(_json.contracts.sHello2.abi);\n",
    "var _abiArray = JSON.parse(_json.contracts[\"src/SquareArea.sol:Area\"].abi);\n",
    "\n",
    "async function doIt() {\n",
    "    var area = new web3.eth.Contract(_abiArray, \"0x99c9e13Fb74Ec1B86Df5712CDF382757788C235C\");\n",
    "    var speed;\n",
    "    const accounts = await web3.eth.getAccounts();\n",
    "    console.log(\"Account: \" + accounts[0]);\n",
    "    const balanceBefore = await web3.eth.getBalance(accounts[0]);\n",
    "    console.log(\"Balance before: \" + balanceBefore);\n",
    "    area.methods.getDegree().call().then(console.log);\n",
    "    await area.methods.setLength(9).send({from: accounts[0]});\n",
    "    area.methods.getLength().call().then(console.log);\n",
    "    //area.methods.calcArea().send({from: accounts[0]});\n",
    "    area.methods.calcArea().call().then(console.log);\n",
    "    area.methods.getAddressOfSquare().call().then(function(address) {\n",
    "        console.log(\"Square Address: \" + address);\n",
    "    });\n",
    "    const balanceAfter = await web3.eth.getBalance(accounts[0]);\n",
    "    console.log(\"Balance after: \" + balanceAfter);\n",
    "    console.log(\"Balance diff: \" + (balanceBefore - balanceAfter));\n",
    "}\n",
    "\n",
    "doIt()\n"
   ]
  },
  {
   "cell_type": "markdown",
   "metadata": {},
   "source": [
    "아래에서 구한 ```Square```의 주소는 다음 문제에서 ```changeSquare(address _addressOfSquare)```에 설정하여 사용해보자."
   ]
  },
  {
   "cell_type": "code",
   "execution_count": null,
   "metadata": {
    "collapsed": false,
    "scrolled": true
   },
   "outputs": [
    {
     "name": "stdout",
     "output_type": "stream",
     "text": [
      "Account: 0x0A2aca05EB30707F09C883A4b1881F775ACA4Fa8\n",
      "Balance before: 99973924640000000000\n",
      "90\n",
      "9\n",
      "81\n",
      "Square Address: 0x748929714418AaF173Cc14cB269BA246573a71eD\n",
      "Balance after: 99973043860000000000\n",
      "Balance diff: 880780000002048\n"
     ]
    }
   ],
   "source": [
    "!node src/SquareAreaUse.js"
   ]
  },
  {
   "cell_type": "markdown",
   "metadata": {
    "slideshow": {
     "slide_type": "slide"
    }
   },
   "source": [
    "## 실습: import 문을 사용하여 컨트랙 결합\n",
    "\n",
    "import문을 사용하여 Square.sol과 이를 사용하는 Area.sol을 \n"
   ]
  },
  {
   "cell_type": "markdown",
   "metadata": {},
   "source": [
    "### 단계 1: 컨트랙 개발\n",
    "\n",
    "#### Square\n",
    "\n",
    "```Square.sol```은 별도로 로컬 파일에 저장해서, ```Area.sol```에서 포함하도록 한다.\n",
    "```Square.sol```은 컴파일하지 않는다."
   ]
  },
  {
   "cell_type": "code",
   "execution_count": 1,
   "metadata": {
    "collapsed": false
   },
   "outputs": [
    {
     "name": "stdout",
     "output_type": "stream",
     "text": [
      "Overwriting src/Square.sol\n"
     ]
    }
   ],
   "source": [
    "%%writefile src/Square.sol\n",
    "pragma solidity ^0.6.0;\n",
    "//pragma solidity 0.4.21;\n",
    "\n",
    "contract Square {\n",
    "    uint128 length;\n",
    "    function getLength() public view returns(uint128) {\n",
    "        return length;\n",
    "    }\n",
    "    function setLength(uint128 _length) public {\n",
    "        length=_length;\n",
    "    }\n",
    "    function getDegree() public pure returns(uint128) {\n",
    "        return 90;\n",
    "    }\n",
    "}"
   ]
  },
  {
   "cell_type": "markdown",
   "metadata": {},
   "source": [
    "#### Area\n",
    "\n",
    "Square를 import할 때는 컴파일하는 Area.sol 기준으로 상대 경로 ```import \"./Square.sol\"```로 적어준다."
   ]
  },
  {
   "cell_type": "code",
   "execution_count": 2,
   "metadata": {
    "collapsed": false
   },
   "outputs": [
    {
     "name": "stdout",
     "output_type": "stream",
     "text": [
      "Overwriting src/Area.sol\n"
     ]
    }
   ],
   "source": [
    "%%writefile src/Area.sol\n",
    "pragma solidity ^0.6.0;\n",
    "//pragma solidity 0.4.21;\n",
    "\n",
    "import \"./Square.sol\";\n",
    "\n",
    "contract Area {\n",
    "    Square s;\n",
    "    address owner;\n",
    "    //event PrintLog(uint128);\n",
    "    //function Area() public {  //0.4.21\n",
    "    constructor() public {\n",
    "        s = new Square();\n",
    "        owner = msg.sender;\n",
    "    }\n",
    "    function changeSquare(address _addressOfSquare) public {\n",
    "        s=Square(_addressOfSquare);\n",
    "    }\n",
    "    function calcArea() view public returns(uint128) {\n",
    "        uint128 length = s.getLength();\n",
    "        uint128 area = length*length;\n",
    "        //emit PrintLog(area);\n",
    "        return area;\n",
    "    }\n",
    "    function setLength(uint128 _length) public {\n",
    "        s.setLength(_length);\n",
    "    }\n",
    "    function getLength() public view returns(uint128) {\n",
    "        return s.getLength();\n",
    "    }\n",
    "    function getDegree() public view returns(uint128) {\n",
    "        return s.getDegree();\n",
    "    }\n",
    "    function getAddressOfSquare() public view returns(address) {\n",
    "        return address(s);\n",
    "    }\n",
    "}"
   ]
  },
  {
   "cell_type": "markdown",
   "metadata": {
    "collapsed": true
   },
   "source": [
    "### 단계 2: 컴파일\n",
    "\n",
    "import 문으로 포함했으니, Square를 컴파일해서, abi, bin를 필요하지 않는다."
   ]
  },
  {
   "cell_type": "code",
   "execution_count": 3,
   "metadata": {
    "collapsed": true
   },
   "outputs": [],
   "source": [
    "!solc src/Area.sol --combined-json abi,bin > src/Area.json"
   ]
  },
  {
   "cell_type": "markdown",
   "metadata": {
    "collapsed": true
   },
   "source": [
    "### 단계 3: 컨트랙 배포\n",
    "\n",
    "컴파일하고 Area.sol의 abi, bin만을 넣어준다. Square.sol의 abi,bin은 무시한다."
   ]
  },
  {
   "cell_type": "code",
   "execution_count": 1,
   "metadata": {
    "collapsed": false
   },
   "outputs": [
    {
     "name": "stdout",
     "output_type": "stream",
     "text": [
      "Overwriting src/AreaDeploy.js\n"
     ]
    }
   ],
   "source": [
    "%%writefile src/AreaDeploy.js\n",
    "var Web3 = require('web3');\n",
    "var web3 = new Web3(new Web3.providers.HttpProvider(\"http://117.16.44.45:8345\"));\n",
    "var fs = require('fs');\n",
    "var _str = fs.readFileSync(\"src/Area.json\");\n",
    "var _json = JSON.parse(_str)\n",
    "//var _abiArray = JSON.parse(_json.contracts.sHello2.abi);\n",
    "var _abiArray = JSON.parse(_json.contracts[\"src/Area.sol:Area\"].abi);\n",
    "//var _bin = _json.contracts.sHello2.bin;\n",
    "var _bin = \"0x\" + _json.contracts[\"src/Area.sol:Area\"].bin;\n",
    "\n",
    "//unlock the account with a password provided\n",
    "//web3.personal.unlockAccount(web3.eth.accounts[0],'password');\n",
    "async function deploy() {\n",
    "    const accounts = await web3.eth.getAccounts();\n",
    "    console.log(\"Deploying the contract from \" + accounts[0]);\n",
    "    var deployed = await new web3.eth.Contract(_abiArray)\n",
    "        .deploy({data: _bin})\n",
    "        .send({from: accounts[0], gas: 1000000}, function(err, transactionHash) {\n",
    "            if(!err) console.log(\"hash: \" + transactionHash); \n",
    "        })\n",
    "        //.then(function(newContractInstance){\n",
    "        //    console.log(newContractInstance.options.address)\n",
    "        //});\n",
    "    console.log(\"---> The contract deployed to: \" + deployed.options.address)\n",
    "}\n",
    "\n",
    "deploy()\n"
   ]
  },
  {
   "cell_type": "code",
   "execution_count": 15,
   "metadata": {
    "collapsed": false
   },
   "outputs": [
    {
     "name": "stdout",
     "output_type": "stream",
     "text": [
      "Deploying the contract from 0x0A2aca05EB30707F09C883A4b1881F775ACA4Fa8\n",
      "hash: 0x5f65d6f449e7d85fb4c1550e91385207eb4849af92c079ff3084932ee51dfbec\n",
      "---> The contract deployed to: 0x0b7bF4eaD0Ac5e4f8a301852F626fEeccA07b8c6\n"
     ]
    }
   ],
   "source": [
    "!node src/AreaDeploy.js"
   ]
  },
  {
   "cell_type": "markdown",
   "metadata": {},
   "source": [
    "### 단계 4: 사용\n",
    "\n",
    "함수 | 설명\n",
    "-----|-----\n",
    "```getAddressOfSquare()``` | 생성자에서 할당된 Square 주소, 즉 ```import ./Square.sol```에서 가져온 ```new Square()```의 주소. 주소 없이 ```new Square()```라고 해도 문제없이 실행이 된다. 즉, ```import```문을 사용하면 주소없이 컨트랙을 생성해서 사용할 수 있다는 의미이다.\n",
    "```setLength()``` | 길이 설정하고\n",
    "```calcArea()``` | 설정된 길이로 면적을 계산\n",
    "```changeSquare('0x748929714418AaF173Cc14cB269BA246573a71eD')``` | 주소를 재설정. 위에서 주소를 넣는다. 즉, 앞서 ```SquareArea.sol```을 컴파일하고 ```getAddressOfSquare()```에서 구한 ```Square```의 주소를 넣어 ```Square```를 교체하여 보자.  단 주소에 따옴표를 해야 한다. 그러고 나서 기능이 적절히 수행되는지 확인해 보자."
   ]
  },
  {
   "cell_type": "code",
   "execution_count": 16,
   "metadata": {
    "collapsed": false
   },
   "outputs": [
    {
     "name": "stdout",
     "output_type": "stream",
     "text": [
      "Overwriting src/AreaUse.js\n"
     ]
    }
   ],
   "source": [
    "%%writefile src/AreaUse.js\n",
    "var Web3=require('web3');\n",
    "var web3=new Web3(new Web3.providers.HttpProvider(\"http://117.16.44.45:8345\"));       //nok\n",
    "//var web3 = new Web3(new Web3.providers.WebsocketProvider(\"http://117.16.44.45:8345\"));  //ok\n",
    "//var web3 = new Web3(new Web3.providers.WebsocketProvider(\"ws://117.16.44.45:8345\"));  //ok\n",
    "var fs=require('fs');\n",
    "var _str = fs.readFileSync(\"src/Area.json\");\n",
    "var _json = JSON.parse(_str)\n",
    "//var _abiArray = JSON.parse(_json.contracts.Area.abi);\n",
    "var _abiArray = JSON.parse(_json.contracts[\"src/Area.sol:Area\"].abi);\n",
    "\n",
    "async function doIt() {\n",
    "    var hello = new web3.eth.Contract(_abiArray, \"0x0b7bF4eaD0Ac5e4f8a301852F626fEeccA07b8c6\");\n",
    "    const accounts = await web3.eth.getAccounts();\n",
    "    console.log(\"Account: \" + accounts[0]);\n",
    "    const balanceBefore = await web3.eth.getBalance(accounts[0]);\n",
    "    console.log(\"Balance before: \" + balanceBefore);\n",
    "    // do by the Square address as set in the constructor\n",
    "    hello.methods.getAddressOfSquare().call(function(err, c1addr) {\n",
    "        if(!err) console.log(\">> Square address by 'new': \"+c1addr);\n",
    "    });\n",
    "    await hello.methods.setLength(10).send({from: accounts[0]});\n",
    "    hello.methods.getLength().call().then(console.log);\n",
    "    hello.methods.calcArea().call().then(console.log);\n",
    "    hello.methods.getDegree().call().then(console.log);\n",
    "    hello.methods.getAddressOfSquare().call().then(console.log);\n",
    "    //redo by the Square address as changed by changeSquare()\n",
    "    await hello.methods.changeSquare('0x748929714418AaF173Cc14cB269BA246573a71eD').send({from: accounts[0]});\n",
    "    hello.methods.getAddressOfSquare().call(function(err, c1addr) {\n",
    "        if(!err) console.log(\">> Square address by 'changeSquare: \"+c1addr);\n",
    "    });\n",
    "    await hello.methods.setLength(10).send({from: accounts[0]});\n",
    "    hello.methods.getLength().call().then(console.log);\n",
    "    hello.methods.calcArea().call().then(console.log);\n",
    "    hello.methods.getDegree().call().then(console.log);\n",
    "    hello.methods.getAddressOfSquare().call().then(console.log);\n",
    "    const balanceAfter = await web3.eth.getBalance(accounts[0]);\n",
    "    console.log(\"Balance after: \" + balanceAfter);\n",
    "    console.log(\"Balance diff: \" + (balanceBefore - balanceAfter));\n",
    "}\n",
    "\n",
    "doIt()\n"
   ]
  },
  {
   "cell_type": "code",
   "execution_count": 17,
   "metadata": {
    "collapsed": false,
    "scrolled": true
   },
   "outputs": [
    {
     "name": "stdout",
     "output_type": "stream",
     "text": [
      "Account: 0x0A2aca05EB30707F09C883A4b1881F775ACA4Fa8\n",
      "Balance before: 99954709760000000000\n",
      ">> Square address by 'new': 0x07cE6901B343abA0Fabe1098E360F7503De920cD\n",
      "10\n",
      "100\n",
      "90\n",
      "0x07cE6901B343abA0Fabe1098E360F7503De920cD\n",
      ">> Square address by 'changeSquare: 0x748929714418AaF173Cc14cB269BA246573a71eD\n",
      "10\n",
      "100\n",
      "90\n",
      "0x748929714418AaF173Cc14cB269BA246573a71eD\n",
      "Balance after: 99952778820000000000\n",
      "Balance diff: 1930939999993856\n"
     ]
    }
   ],
   "source": [
    "!node src/AreaUse.js"
   ]
  },
  {
   "cell_type": "markdown",
   "metadata": {},
   "source": [
    "2회 실행하면 생성자는 최초에만 실행되므로, ```Square```의 주소가 변경된 상태로 실행된다."
   ]
  },
  {
   "cell_type": "code",
   "execution_count": 18,
   "metadata": {
    "collapsed": false,
    "scrolled": false
   },
   "outputs": [
    {
     "name": "stdout",
     "output_type": "stream",
     "text": [
      "Account: 0x0A2aca05EB30707F09C883A4b1881F775ACA4Fa8\n",
      "Balance before: 99952778820000000000\n",
      ">> Square address by 'new': 0x748929714418AaF173Cc14cB269BA246573a71eD\n",
      "10\n",
      "100\n",
      "90\n",
      "0x748929714418AaF173Cc14cB269BA246573a71eD\n",
      ">> Square address by 'changeSquare: 0x748929714418AaF173Cc14cB269BA246573a71eD\n",
      "10\n",
      "100\n",
      "90\n",
      "0x748929714418AaF173Cc14cB269BA246573a71eD\n",
      "Balance after: 99951339880000000000\n",
      "Balance diff: 1438940000010240\n"
     ]
    }
   ],
   "source": [
    "!node src/AreaUse.js"
   ]
  },
  {
   "cell_type": "markdown",
   "metadata": {},
   "source": [
    "###  registrar\n",
    "\n",
    "```python\n",
    "> primary = eth.accounts[0];\n",
    "'0xa5cd6f89bb6100aa6c1f634fa5937f0b201ff43c'\n",
    "> globalRegistrarAddr = admin.setGlobalRegistrar(\"\", primary);\n",
    "Please unlock account a5cd6f89bb6100aa6c1f634fa5937f0b201ff43c.\n",
    "Passphrase: \n",
    "Account is now unlocked for this session.\n",
    "'0x89101a18ba7d97c35bcff99e8f2d290ecd9e9faabc8b4b36200b237d9974545d'\n",
    "> globalRegistrarAddr\n",
    "'0x89101a18ba7d97c35bcff99e8f2d290ecd9e9faabc8b4b36200b237d9974545d'\n",
    ">\n",
    "```"
   ]
  },
  {
   "cell_type": "markdown",
   "metadata": {
    "slideshow": {
     "slide_type": "slide"
    }
   },
   "source": [
    "## 12.3 상속\n",
    "<a id='S.8'></a>\n",
    "\n",
    "* 상속\n",
    "    * abstract contract"
   ]
  },
  {
   "cell_type": "markdown",
   "metadata": {},
   "source": [
    "### 단계 1: 컨트랙 개발"
   ]
  },
  {
   "cell_type": "code",
   "execution_count": 1,
   "metadata": {
    "collapsed": false
   },
   "outputs": [
    {
     "name": "stdout",
     "output_type": "stream",
     "text": [
      "Writing src/Point.sol\n"
     ]
    }
   ],
   "source": [
    "%%writefile src/Point.sol\n",
    "pragma solidity ^0.6.0;\n",
    "contract Point {\n",
    "    int x;\n",
    "    int y;\n",
    "    constructor(int _x, int _y) public {\n",
    "        x = _x;\n",
    "        y = _y;\n",
    "    }\n",
    "    function getX() view public returns(int) { return x; }\n",
    "    function getY() view  public returns(int) { return y; }\n",
    "}"
   ]
  },
  {
   "cell_type": "code",
   "execution_count": 6,
   "metadata": {
    "collapsed": false
   },
   "outputs": [
    {
     "name": "stdout",
     "output_type": "stream",
     "text": [
      "Overwriting src/Rectangle.sol\n"
     ]
    }
   ],
   "source": [
    "%%writefile src/Rectangle.sol\n",
    "pragma solidity ^0.6.0;\n",
    "import \"./Point.sol\";\n",
    "\n",
    "contract Rectangle is Point {\n",
    "    int w;\n",
    "    int h;\n",
    "    constructor(int _w, int _h, int _x, int _y) Point(_x, _y) public {\n",
    "        //super(_x, _y); //nok\n",
    "        w = _w;  //this.x --> nok\n",
    "        h = _h;\n",
    "    }\n",
    "    function getPerimeter() view public returns(int) {\n",
    "        return 2*(w+h);\n",
    "    }\n",
    "    function getXOpposite() view public returns(int) { return getX() + w; }\n",
    "    function getYOpposite() view public returns(int) { return getY() + h; }\n",
    "}"
   ]
  },
  {
   "cell_type": "markdown",
   "metadata": {
    "slideshow": {
     "slide_type": "subslide"
    }
   },
   "source": [
    "### 단계 2: 컴파일"
   ]
  },
  {
   "cell_type": "code",
   "execution_count": 7,
   "metadata": {
    "collapsed": false
   },
   "outputs": [],
   "source": [
    "!solc src/Rectangle.sol --combined-json abi,bin > src/Rectangle.json"
   ]
  },
  {
   "cell_type": "markdown",
   "metadata": {
    "slideshow": {
     "slide_type": "subslide"
    }
   },
   "source": [
    "### 단계 3: 컨트랙 배포\n",
    "\n",
    "배포할 경우 superclass는 이미 포함되므로 greeter abi, bin만 넣어서 배포한다.\n",
    "constrcutor가 문자열을 인자로 받으므로 4개의 인자를 넣어준다."
   ]
  },
  {
   "cell_type": "code",
   "execution_count": 18,
   "metadata": {
    "collapsed": false
   },
   "outputs": [
    {
     "name": "stdout",
     "output_type": "stream",
     "text": [
      "Overwriting src/RectangleDeploy.js\n"
     ]
    }
   ],
   "source": [
    "%%writefile src/RectangleDeploy.js\n",
    "var Web3 = require('web3');\n",
    "var web3 = new Web3(new Web3.providers.HttpProvider(\"http://117.16.44.45:8345\"));\n",
    "var fs = require('fs');\n",
    "var _str = fs.readFileSync(\"src/Rectangle.json\");\n",
    "var _json = JSON.parse(_str)\n",
    "//var _abiArray = JSON.parse(_json.contracts.sHello2.abi);\n",
    "var _abiArray = JSON.parse(_json.contracts[\"src/Rectangle.sol:Rectangle\"].abi);\n",
    "//var _bin = _json.contracts.sHello2.bin;\n",
    "var _bin = \"0x\" + _json.contracts[\"src/Rectangle.sol:Rectangle\"].bin;\n",
    "\n",
    "//unlock the account with a password provided\n",
    "//web3.personal.unlockAccount(web3.eth.accounts[0],'password');\n",
    "async function deploy() {\n",
    "    const accounts = await web3.eth.getAccounts();\n",
    "    console.log(\"Deploying the contract from \" + accounts[0]);\n",
    "    var deployed = await new web3.eth.Contract(_abiArray)\n",
    "        .deploy({data: _bin, arguments: [10, 20, 30, 40]})\n",
    "        .send({from: accounts[0], gas: 1000000}, function(err, transactionHash) {\n",
    "                if(!err) console.log(\"hash: \" + transactionHash); \n",
    "        })\n",
    "        //.then(function(newContractInstance){\n",
    "        //    console.log(newContractInstance.options.address)\n",
    "        //});\n",
    "    console.log(\"---> The contract deployed to: \" + deployed.options.address)\n",
    "}\n",
    "\n",
    "deploy()\n"
   ]
  },
  {
   "cell_type": "code",
   "execution_count": 19,
   "metadata": {
    "collapsed": false,
    "scrolled": true
   },
   "outputs": [
    {
     "name": "stdout",
     "output_type": "stream",
     "text": [
      "Deploying the contract from 0x835e0FBEda65c1208bFc37282bfE723d2412c152\n",
      "hash: 0xee621084021916ddd6591d0db98c8f2e091d69220c93b6117508b0df4d1a57fc\n",
      "---> The contract deployed to: 0x86d0672dd21b18BAD38b4d7Cb9A47BdDFaeB9c10\n"
     ]
    }
   ],
   "source": [
    "!node src/RectangleDeploy.js"
   ]
  },
  {
   "cell_type": "markdown",
   "metadata": {},
   "source": [
    "### 단계 4: 사용"
   ]
  },
  {
   "cell_type": "code",
   "execution_count": 21,
   "metadata": {
    "collapsed": false
   },
   "outputs": [
    {
     "name": "stdout",
     "output_type": "stream",
     "text": [
      "Writing src/RectangleUse.js\n"
     ]
    }
   ],
   "source": [
    "%%writefile src/RectangleUse.js\n",
    "var Web3=require('web3');\n",
    "var web3=new Web3(new Web3.providers.HttpProvider(\"http://117.16.44.45:8345\"));       //nok\n",
    "//var web3 = new Web3(new Web3.providers.WebsocketProvider(\"http://117.16.44.45:8345\"));  //ok\n",
    "//var web3 = new Web3(new Web3.providers.WebsocketProvider(\"ws://117.16.44.45:8345\"));  //ok\n",
    "var fs = require('fs');\n",
    "var _str = fs.readFileSync(\"src/Rectangle.json\");\n",
    "var _json = JSON.parse(_str)\n",
    "//var _abiArray = JSON.parse(_json.contracts.sHello2.abi);\n",
    "var _abiArray = JSON.parse(_json.contracts[\"src/Rectangle.sol:Rectangle\"].abi);\n",
    "\n",
    "async function doIt() {\n",
    "    var hello = new web3.eth.Contract(_abiArray, \"0x86d0672dd21b18BAD38b4d7Cb9A47BdDFaeB9c10\");\n",
    "    const accounts = await web3.eth.getAccounts();\n",
    "    console.log(\"Account: \" + accounts[0]);\n",
    "    const balanceBefore = await web3.eth.getBalance(accounts[0]);\n",
    "    console.log(\"Balance before: \" + balanceBefore);\n",
    "    hello.methods.getPerimeter().call().then(console.log);\n",
    "    hello.methods.getXOpposite().call().then(console.log);\n",
    "    hello.methods.getYOpposite().call().then(console.log);\n",
    "    const balanceAfter = await web3.eth.getBalance(accounts[0]);\n",
    "    console.log(\"Balance after: \" + balanceAfter);\n",
    "    console.log(\"Balance diff: \" + (balanceBefore - balanceAfter));\n",
    "    \n",
    "}\n",
    "\n",
    "doIt()\n"
   ]
  },
  {
   "cell_type": "markdown",
   "metadata": {},
   "source": [
    "너비는 2 * (10 + 20), XOpposite는 30 + 10, YOpposite는 40 + 20"
   ]
  },
  {
   "cell_type": "code",
   "execution_count": 22,
   "metadata": {
    "collapsed": false
   },
   "outputs": [
    {
     "name": "stdout",
     "output_type": "stream",
     "text": [
      "Account: 0x835e0FBEda65c1208bFc37282bfE723d2412c152\n",
      "Balance before: 99995171720000000000\n",
      "60\n",
      "40\n",
      "60\n",
      "Balance after: 99995171720000000000\n",
      "Balance diff: 0\n"
     ]
    }
   ],
   "source": [
    "!node src/RectangleUse.js"
   ]
  },
  {
   "cell_type": "markdown",
   "metadata": {},
   "source": [
    "## 실습: greeter.sol\n",
    "\n",
    "* 출처 https://www.ethereum.org/greeter\n",
    "* 복수 contract을 컴파일하고, 서로 참조하는 경우"
   ]
  },
  {
   "cell_type": "markdown",
   "metadata": {},
   "source": [
    "### 단계 1: 컨트랙 개발\n",
    "\n",
    "Solidity 0.5.0부터 address and address payable로 타잎이 구분되었다.\n",
    "selfdestruct는 컨트랙을 삭제하는 경우, 잔액을 반환하는 주소."
   ]
  },
  {
   "cell_type": "code",
   "execution_count": 20,
   "metadata": {
    "collapsed": false,
    "slideshow": {
     "slide_type": "slide"
    }
   },
   "outputs": [
    {
     "name": "stdout",
     "output_type": "stream",
     "text": [
      "Overwriting src/greeter.sol\n"
     ]
    }
   ],
   "source": [
    "%%writefile src/greeter.sol\n",
    "pragma solidity ^0.5.0;\n",
    "contract mortal {\n",
    "    /* Define variable owner of the type address*/\n",
    "    address payable owner;\n",
    "\n",
    "    /* this function is executed at initialization and sets the owner of the contract */\n",
    "    constructor() public { owner = msg.sender; }\n",
    "\n",
    "    /* Function to recover the funds on the contract */\n",
    "    function kill() public { if (msg.sender == owner) selfdestruct(owner); }\n",
    "}\n",
    "\n",
    "contract greeter is mortal {\n",
    "    /* define variable greeting of the type string */\n",
    "    string greeting;\n",
    "\n",
    "    /* this runs when the contract is executed */\n",
    "    constructor(string memory _greeting) public {\n",
    "        greeting = _greeting;\n",
    "    }\n",
    "\n",
    "    /* main function */\n",
    "    function greet() public view returns (string memory) {\n",
    "        return greeting;\n",
    "    }\n",
    "}"
   ]
  },
  {
   "cell_type": "markdown",
   "metadata": {
    "slideshow": {
     "slide_type": "subslide"
    }
   },
   "source": [
    "### 단계 3: 컨트랙 배포"
   ]
  },
  {
   "cell_type": "code",
   "execution_count": 19,
   "metadata": {
    "collapsed": false
   },
   "outputs": [
    {
     "name": "stdout",
     "output_type": "stream",
     "text": [
      "Overwriting src/greeterDeploy.js\n"
     ]
    }
   ],
   "source": [
    "%%writefile src/greeterDeploy.js\n",
    "var Web3=require('web3');\n",
    "var web3 = new Web3(new Web3.providers.HttpProvider(\"http://117.16.44.45:8345\"));\n",
    "var _abiArray=[{\"constant\":false,\"inputs\":[],\"name\":\"kill\",\"outputs\":[],\"payable\":false,\"stateMutability\":\"nonpayable\",\"type\":\"function\"},{\"constant\":true,\"inputs\":[],\"name\":\"greet\",\"outputs\":[{\"name\":\"\",\"type\":\"string\"}],\"payable\":false,\"stateMutability\":\"view\",\"type\":\"function\"},{\"inputs\":[{\"name\":\"_greeting\",\"type\":\"string\"}],\"payable\":false,\"stateMutability\":\"nonpayable\",\"type\":\"constructor\"}];\n",
    "var _bin=\"0x\"+\"608060405234801561001057600080fd5b506040516103db3803806103db8339810180604052602081101561003357600080fd5b81019080805164010000000081111561004b57600080fd5b8281019050602081018481111561006157600080fd5b815185600182028301116401000000008211171561007e57600080fd5b5050929190505050336000806101000a81548173ffffffffffffffffffffffffffffffffffffffff021916908373ffffffffffffffffffffffffffffffffffffffff16021790555080600190805190602001906100dc9291906100e3565b5050610188565b828054600181600116156101000203166002900490600052602060002090601f016020900481019282601f1061012457805160ff1916838001178555610152565b82800160010185558215610152579182015b82811115610151578251825591602001919060010190610136565b5b50905061015f9190610163565b5090565b61018591905b80821115610181576000816000905550600101610169565b5090565b90565b610244806101976000396000f3fe608060405234801561001057600080fd5b5060043610610053576000357c01000000000000000000000000000000000000000000000000000000009004806341c0e1b514610058578063cfae321714610062575b600080fd5b6100606100e5565b005b61006a610176565b6040518080602001828103825283818151815260200191508051906020019080838360005b838110156100aa57808201518184015260208101905061008f565b50505050905090810190601f1680156100d75780820380516001836020036101000a031916815260200191505b509250505060405180910390f35b6000809054906101000a900473ffffffffffffffffffffffffffffffffffffffff1673ffffffffffffffffffffffffffffffffffffffff163373ffffffffffffffffffffffffffffffffffffffff161415610174576000809054906101000a900473ffffffffffffffffffffffffffffffffffffffff1673ffffffffffffffffffffffffffffffffffffffff16ff5b565b606060018054600181600116156101000203166002900480601f01602080910402602001604051908101604052809291908181526020018280546001816001161561010002031660029004801561020e5780601f106101e35761010080835404028352916020019161020e565b820191906000526020600020905b8154815290600101906020018083116101f157829003601f168201915b505050505090509056fea165627a7a72305820baad8d78174d9288c9240f9d06b886a4e3cb19c1fa71fc14517e70cd520978180029\";\n",
    "var _contract = new web3.eth.Contract(_abiArray);\n",
    "_contract\n",
    "    .deploy({data:\"0x\"+_bin, arguments: 'Hello jsl'})\n",
    "    .send({from:'0x0bcda8d976476884c82ca1f2d25a11b3947bfb14',gas:1000000}, function(err, transactionHash) {\n",
    "        if (!err) {\n",
    "            console.log(\">>> transactionHash: \", transactionHash);\n",
    "        } else { console.log(err);}\n",
    "    })\n",
    "    .then(function(contract) {\n",
    "        console.log(\">>> Deployed address: \"+contract._address);\n",
    "    })\n",
    "    .catch(function(e) {\n",
    "        console.log(\"error\",e);\n",
    "    });"
   ]
  },
  {
   "cell_type": "code",
   "execution_count": 21,
   "metadata": {
    "collapsed": false
   },
   "outputs": [
    {
     "name": "stdout",
     "output_type": "stream",
     "text": [
      ">>> transactionHash:  0x4f887c9861707db8cf4282c1d8d581d59eb735a34d64f82065e1fd87b9bf9986\r\n",
      ">>> Deployed address: 0x7e4c57053E6111E3F6D6920D5aB88BE24490e068\r\n"
     ]
    }
   ],
   "source": [
    "!node src/greeterDeploy.js"
   ]
  },
  {
   "cell_type": "markdown",
   "metadata": {
    "slideshow": {
     "slide_type": "subslide"
    }
   },
   "source": [
    "### 단계 4: 사용"
   ]
  },
  {
   "cell_type": "code",
   "execution_count": 27,
   "metadata": {
    "collapsed": false
   },
   "outputs": [
    {
     "name": "stdout",
     "output_type": "stream",
     "text": [
      "Writing src/greeterUse.js\n"
     ]
    }
   ],
   "source": [
    "%%writefile src/greeterUse__.js\n",
    "var Web3=require('web3');\n",
    "var web3 = new Web3(new Web3.providers.HttpProvider(\"http://117.16.44.45:8445\"));\n",
    "var _abiArray=[{\"constant\":false,\"inputs\":[],\"name\":\"kill\",\"outputs\":[],\"payable\":false,\"stateMutability\":\"nonpayable\",\"type\":\"function\"},{\"constant\":true,\"inputs\":[],\"name\":\"greet\",\"outputs\":[{\"name\":\"\",\"type\":\"string\"}],\"payable\":false,\"stateMutability\":\"view\",\"type\":\"function\"},{\"inputs\":[{\"name\":\"_greeting\",\"type\":\"string\"}],\"payable\":false,\"stateMutability\":\"nonpayable\",\"type\":\"constructor\"}];\n",
    "var greeterContract = web3.eth.contract(_abiArray);\n",
    "var greeter = greeterContract.at(\"0x40dc58fc998d6ed4a384e01d89ba297d5bea2863\");\n",
    "/*var event = e_test.Event(function (error, result) {\n",
    "    if (!error) {\n",
    "        console.log(\"e_test: event triggered =====> \",result);\n",
    "        process.exit(1);\n",
    "    }\n",
    "});*/\n",
    "console.log(greeter.greet({from:web3.eth.accounts[0],gas:100000}));"
   ]
  },
  {
   "cell_type": "code",
   "execution_count": 24,
   "metadata": {
    "collapsed": false
   },
   "outputs": [
    {
     "name": "stdout",
     "output_type": "stream",
     "text": [
      "Overwriting src/greeterUse.js\n"
     ]
    }
   ],
   "source": [
    "%%writefile src/greeterUse.js\n",
    "var Web3=require('web3');\n",
    "var web3 = new Web3(new Web3.providers.HttpProvider(\"http://117.16.44.45:8345\"));\n",
    "var _abiArray=[{\"constant\":false,\"inputs\":[],\"name\":\"kill\",\"outputs\":[],\"payable\":false,\"stateMutability\":\"nonpayable\",\"type\":\"function\"},{\"constant\":true,\"inputs\":[],\"name\":\"greet\",\"outputs\":[{\"name\":\"\",\"type\":\"string\"}],\"payable\":false,\"stateMutability\":\"view\",\"type\":\"function\"},{\"inputs\":[{\"name\":\"_greeting\",\"type\":\"string\"}],\"payable\":false,\"stateMutability\":\"nonpayable\",\"type\":\"constructor\"}];\n",
    "var greeterContract = new web3.eth.Contract(_abiArray,\"0x7e4c57053E6111E3F6D6920D5aB88BE24490e068\");\n",
    "/*var event = e_test.Event(function (error, result) {\n",
    "    if (!error) {\n",
    "        console.log(\"e_test: event triggered =====> \",result);\n",
    "        process.exit(1);\n",
    "    }\n",
    "});*/\n",
    "greeterContract.methods.greet().call().then(console.log);"
   ]
  },
  {
   "cell_type": "code",
   "execution_count": 25,
   "metadata": {
    "collapsed": false
   },
   "outputs": [
    {
     "name": "stdout",
     "output_type": "stream",
     "text": [
      "Hello jsl\r\n"
     ]
    }
   ],
   "source": [
    "!node src/greeterUse.js"
   ]
  },
  {
   "cell_type": "markdown",
   "metadata": {},
   "source": [
    "### 12.4  라이브러리\n",
    "<a id='S.9'></a>\n",
    "\n",
    "#### 정의\n",
    "\n",
    "라이브러리는 빈번하게 사용되는 부분을, 인터페이를 잘 정의해서 구현해 놓은 소스코드 또는 실행파일을 말한다. 라이브러리는 프로그램에서 필요로 하는 기본 기능으로 만들어져 재사용되게 된다.\n",
    "\n",
    "라이브러리는 다른 형태의 컨트랙으로 library라고 선언한다는 차이가 있다.\n",
    "\n",
    "```python\n",
    "library LibrayName {\n",
    "}\n",
    "```\n",
    "\n",
    "컨트랙과 달리 라이브러리는 storage 공간을 가질 수 없어서 (non-constant state variable 가질 수 없슴) 속성을 생성하여 그 어떤 값을 가질 수 없다.\n",
    "라이브러리는 ether를 가질 수 없고, payable을 사용할 수 없고 fallback 함수 역시 가질 수 없다. 여러 사람이 사용할 수 있으므로 당연히 그렇겠다.\n",
    "또한 상속을 사용할 수 없다.\n",
    "\n",
    "* public으로 할 수 있는지? 이러면 gas비용 문제가 나옴.\n",
    "\n",
    "https://github.com/OpenZeppelin/openzeppelin-contracts"
   ]
  },
  {
   "cell_type": "markdown",
   "metadata": {},
   "source": [
    "### import\n",
    "\n",
    "라이브러리는 ```import```문으로 가져와 사용할 수 있다.\n",
    "\n",
    "```python\n",
    "import LibraryName from “./myLib.sol”;\n",
    "```\n",
    "\n",
    "```import```문 다음에 괄호로 라이브러리 명을 ```from``` 뒤에 파일 명을 적는다.\n",
    "예를 들어 다음과 myLib.sol이 구성되어 있다고 하자.\n",
    "\n",
    "```python\n",
    "library Library1 {\n",
    " // Code from library 1\n",
    "}\n",
    "library Library2 {\n",
    " // Code from library 2\n",
    "}\n",
    "library Library3 {\n",
    " // Code fom library 3\n",
    "}\n",
    "```\n",
    "\n",
    "그러면\n",
    "\n",
    "```python\n",
    "pragma solidity ^0.5.0;\n",
    "// We choose to use only Library 1 and 3 here, and exclude Library 2\n",
    "import {Library1, Library3} from \"./library-file.sol\";\n",
    "contract MyContract {\n",
    "    \n",
    "    // Your contract code here\n",
    "}\n",
    "```"
   ]
  },
  {
   "cell_type": "markdown",
   "metadata": {},
   "source": [
    "### using ... for\n",
    "\n",
    "```Using MyLib for <<Type>>```는 MyLib을 <<Type>>에 붙여서 사용하겠다는 의미이다.\n",
    "```Using MyLib for uint```는 uint타잎에 ```Using MyLib for *```는 어떤 타잎이든 붙여 사용하겠다는 의미이다.\n",
    "\n",
    "첫째 인자는 Python의 self와 같이 자신이 된다. 즉 첫째인자를 객체와 같이 간주하고 자신에게 함수를 붙여 사용한다.\n",
    "\n",
    "```python\n",
    "using myLib for uint;\n",
    "uint result = num.multiply7();\n",
    "```"
   ]
  },
  {
   "cell_type": "markdown",
   "metadata": {},
   "source": [
    "### library 배포\n",
    "\n",
    "라이브러리는 구현해서 배포해 놓으면, 필요로 할 때 그대로 재사용할 수 있게 된다.\n",
    "\n",
    "* **linked library**: library함수가 **public 또는 external**로 선언된 경우, 외부에서 사용할 수 있으므로 **별도로 배포해서 link**해야 한다. link되는 부분에 **placeholder가 있다**\n",
    "* **embedded library**: library의 함수가 **internal**로만 선언된 경우이다. library를 배포할 때 이 library를 사용하는 컨트랙에 포함되어 배포된다. **placeholder가 없다**. 그냥 **library 코드가 콘트랙에 포함**된다. link를 할 필요가 없다. 따라서 library를 호출할 때 JUMP문을 사용하여 보통 함수를 부르는 것처럼 처리가 된다.\n"
   ]
  },
  {
   "cell_type": "markdown",
   "metadata": {},
   "source": [
    "### 12.4.1 library internal\n",
    "\n",
    "//Just downloaded StringUtils.sol from github.com\n",
    "//import \"github.com/ethereum/dapp-bin/library/stringUtils.sol\";\n",
    "//import \"./StringUtils.sol\";"
   ]
  },
  {
   "cell_type": "markdown",
   "metadata": {
    "slideshow": {
     "slide_type": "subslide"
    }
   },
   "source": [
    "## 실습: 내부용 라이브러리 사용\n",
    "\n",
    "주소 없이 라이브러리 "
   ]
  },
  {
   "cell_type": "markdown",
   "metadata": {
    "slideshow": {
     "slide_type": "subslide"
    }
   },
   "source": [
    "### 단계 1: 컨트랙 개발"
   ]
  },
  {
   "cell_type": "code",
   "execution_count": 16,
   "metadata": {
    "collapsed": false
   },
   "outputs": [
    {
     "name": "stdout",
     "output_type": "stream",
     "text": [
      "Overwriting src/LibraryTest.sol\n"
     ]
    }
   ],
   "source": [
    "%%writefile src/LibraryTest.sol\n",
    "pragma solidity ^0.6.0;\n",
    "//pragma solidity ^0.5.0;\n",
    "\n",
    "library myLib {\n",
    "    //function multiply7(uint num) public pure returns (uint) {\n",
    "    function multiply7(uint num) internal pure returns (uint) {\n",
    "      return num * 7;\n",
    "   }\n",
    "}\n",
    "    \n",
    "contract LibrayTest {\n",
    "    //event PrintLog(uint);\n",
    "    function multiply7By(uint num) pure public returns(uint) {\n",
    "        uint n=myLib.multiply7(num);\n",
    "        //emit PrintLog(n);\n",
    "        return n;\n",
    "    }\n",
    "}"
   ]
  },
  {
   "cell_type": "markdown",
   "metadata": {
    "slideshow": {
     "slide_type": "subslide"
    }
   },
   "source": [
    "### 단계 2: 컴파일\n",
    "\n",
    "internal로 선언한 까닭에 myLib은 ABI가 없다."
   ]
  },
  {
   "cell_type": "code",
   "execution_count": 17,
   "metadata": {
    "collapsed": false
   },
   "outputs": [],
   "source": [
    "!solc src/LibraryTest.sol --combined-json abi,bin > src/LibraryTest.json"
   ]
  },
  {
   "cell_type": "code",
   "execution_count": 18,
   "metadata": {
    "collapsed": false,
    "scrolled": true
   },
   "outputs": [
    {
     "name": "stdout",
     "output_type": "stream",
     "text": [
      "{\"contracts\":{\"src/LibraryTest.sol:LibrayTest\":{\"abi\":\"[{\\\"inputs\\\":[{\\\"internalType\\\":\\\"uint256\\\",\\\"name\\\":\\\"num\\\",\\\"type\\\":\\\"uint256\\\"}],\\\"name\\\":\\\"multiply7By\\\",\\\"outputs\\\":[{\\\"internalType\\\":\\\"uint256\\\",\\\"name\\\":\\\"\\\",\\\"type\\\":\\\"uint256\\\"}],\\\"stateMutability\\\":\\\"pure\\\",\\\"type\\\":\\\"function\\\"}]\",\"bin\":\"608060405234801561001057600080fd5b5060c48061001f6000396000f3fe6080604052348015600f57600080fd5b506004361060285760003560e01c80633e65296914602d575b600080fd5b605660048036036020811015604157600080fd5b8101908080359060200190929190505050606c565b6040518082815260200191505060405180910390f35b6000806076836081565b905080915050919050565b600060078202905091905056fea2646970667358221220a1e59a70a2cd21d7e50a4a1aa8d6e724cb80cafdb77a2d89060bb60bfbbc32ee64736f6c63430006010033\"},\"src/LibraryTest.sol:myLib\":{\"abi\":\"[]\",\"bin\":\"60566023600b82828239805160001a607314601657fe5b30600052607381538281f3fe73000000000000000000000000000000000000000030146080604052600080fdfea264697066735822122036bec5e0054dc55973a87e529d8674be42e4705148a860e41d1aacad2a69071b64736f6c63430006010033\"}},\"version\":\"0.6.1+commit.e6f7d5a4.Linux.g++\"}\r\n"
     ]
    }
   ],
   "source": [
    "!cat src/LibraryTest.json"
   ]
  },
  {
   "cell_type": "markdown",
   "metadata": {
    "slideshow": {
     "slide_type": "subslide"
    }
   },
   "source": [
    "### 단계 3: 컨트랙 배포"
   ]
  },
  {
   "cell_type": "code",
   "execution_count": 19,
   "metadata": {
    "collapsed": false
   },
   "outputs": [
    {
     "name": "stdout",
     "output_type": "stream",
     "text": [
      "Overwriting src/LibraryTestDeploy.js\n"
     ]
    }
   ],
   "source": [
    "%%writefile src/LibraryTestDeploy.js\n",
    "var Web3 = require('web3');\n",
    "var web3 = new Web3(new Web3.providers.HttpProvider(\"http://117.16.44.45:8345\"));\n",
    "var fs = require('fs');\n",
    "var _str = fs.readFileSync(\"src/LibraryTest.json\");\n",
    "var _json = JSON.parse(_str)\n",
    "//var _abiArray = JSON.parse(_json.contracts.sHello2.abi);\n",
    "var _abiArray = JSON.parse(_json.contracts[\"src/LibraryTest.sol:LibrayTest\"].abi);\n",
    "//var _bin = _json.contracts.sHello2.bin;\n",
    "var _bin = \"0x\" + _json.contracts[\"src/LibraryTest.sol:LibrayTest\"].bin;\n",
    "\n",
    "//unlock the account with a password provided\n",
    "//web3.personal.unlockAccount(web3.eth.accounts[0],'password');\n",
    "async function deploy() {\n",
    "    const accounts = await web3.eth.getAccounts();\n",
    "    console.log(\"Deploying the contract from \" + accounts[0]);\n",
    "    var deployed = await new web3.eth.Contract(_abiArray)\n",
    "        .deploy({data: _bin})\n",
    "        .send({from: accounts[0], gas: 1000000}, function(err, transactionHash) {\n",
    "                if(!err) console.log(\"hash: \" + transactionHash); \n",
    "        })\n",
    "        //.then(function(newContractInstance){\n",
    "        //    console.log(newContractInstance.options.address)\n",
    "        //});\n",
    "    console.log(\"---> The contract deployed to: \" + deployed.options.address)\n",
    "}\n",
    "\n",
    "deploy()\n"
   ]
  },
  {
   "cell_type": "code",
   "execution_count": 20,
   "metadata": {
    "collapsed": false
   },
   "outputs": [
    {
     "name": "stdout",
     "output_type": "stream",
     "text": [
      "Deploying the contract from 0x835e0FBEda65c1208bFc37282bfE723d2412c152\n",
      "hash: 0x4693bfde7610bd4e10cf3168bcb358c29f460b210bab5d8cb4e413a73a4f0256\n",
      "---> The contract deployed to: 0x6Ad8D7cCA9b4195f4F210e4374248C4aF5a7DCaA\n"
     ]
    }
   ],
   "source": [
    "!node src/LibraryTestDeploy.js"
   ]
  },
  {
   "cell_type": "markdown",
   "metadata": {
    "slideshow": {
     "slide_type": "subslide"
    }
   },
   "source": [
    "### 단계 4: 사용\n",
    "\n",
    "```multiply7By(5).call()```는 이벤트를 발생하지 않고 결과만 출력한다.\n",
    "```lib.multiply7By.send(5,{from: accounts[0]})```는 이벤트를 출력해서 결과를 볼 수 있다. 단 마이닝을 해야 한다."
   ]
  },
  {
   "cell_type": "code",
   "execution_count": 27,
   "metadata": {
    "collapsed": false
   },
   "outputs": [
    {
     "name": "stdout",
     "output_type": "stream",
     "text": [
      "Overwriting src/LibraryTestUse.js\n"
     ]
    }
   ],
   "source": [
    "%%writefile src/LibraryTestUse.js\n",
    "var Web3=require('web3');\n",
    "var web3=new Web3(new Web3.providers.HttpProvider(\"http://117.16.44.45:8345\"));\n",
    "//var web3 = new Web3(new Web3.providers.WebsocketProvider(\"http://117.16.44.45:8345\"));  //ok\n",
    "//var web3 = new Web3(new Web3.providers.WebsocketProvider(\"ws://117.16.44.45:8345\"));  //ok\n",
    "var fs = require('fs');\n",
    "var _str = fs.readFileSync(\"src/LibraryTest.json\");\n",
    "var _json = JSON.parse(_str)\n",
    "//var _abiArray = JSON.parse(_json.contracts.sHello2.abi);\n",
    "var _abiArray = JSON.parse(_json.contracts[\"src/LibraryTest.sol:LibrayTest\"].abi);\n",
    "\n",
    "async function doIt() {\n",
    "    var lib = new web3.eth.Contract(_abiArray, \"0x6Ad8D7cCA9b4195f4F210e4374248C4aF5a7DCaA\");\n",
    "    const accounts = await web3.eth.getAccounts();\n",
    "    console.log(\"Account: \" + accounts[0]);\n",
    "    lib.methods.multiply7By(5).estimateGas(function(err,gas) {\n",
    "        if(!err) console.log(\">> gas: \"+ gas);\n",
    "    });\n",
    "    lib.methods.multiply7By(5).call().then(console.log);\n",
    "}\n",
    "\n",
    "doIt()\n"
   ]
  },
  {
   "cell_type": "code",
   "execution_count": 28,
   "metadata": {
    "collapsed": false
   },
   "outputs": [
    {
     "name": "stdout",
     "output_type": "stream",
     "text": [
      "Account: 0x835e0FBEda65c1208bFc37282bfE723d2412c152\n",
      ">> gas: 21806\n",
      "35\n"
     ]
    }
   ],
   "source": [
    "!node src/LibraryTestUse.js"
   ]
  },
  {
   "cell_type": "markdown",
   "metadata": {
    "slideshow": {
     "slide_type": "subslide"
    }
   },
   "source": [
    "### 12.4.2 library public\n",
    "\n",
    "library를 **extern, public**으로 하는 경우 placeholder가 생긴다.\n",
    "어떤 의미인가 하면\n",
    "그 placeholder에는 실제 **library의 주소를 대체**해서 넣어야 배포할 수 있다."
   ]
  },
  {
   "cell_type": "markdown",
   "metadata": {
    "slideshow": {
     "slide_type": "slide"
    }
   },
   "source": [
    "## 실습: 라이브러리 링크\n",
    "\n",
    "```solc --libraries``` 명령어를 사용하여 라이브러리를 링크할 수 있다."
   ]
  },
  {
   "cell_type": "markdown",
   "metadata": {
    "slideshow": {
     "slide_type": "subslide"
    }
   },
   "source": [
    "### 단계 1: 컨트랙 개발\n",
    "\n",
    "```library```는 별도로 저장하고 사용하기 위해서는 ```import \"./myLib.sol\"```로 포함한다.\n",
    "```using myLib for uint256```로 사용한다."
   ]
  },
  {
   "cell_type": "code",
   "execution_count": 6,
   "metadata": {
    "collapsed": false
   },
   "outputs": [
    {
     "name": "stdout",
     "output_type": "stream",
     "text": [
      "Overwriting src/myLib.sol\n"
     ]
    }
   ],
   "source": [
    "%%writefile src/myLib.sol\n",
    "pragma solidity ^0.6.0;\n",
    "\n",
    "library myLib {\n",
    "    //function multiply7(uint num) internal pure returns (uint) {\n",
    "    function multiply7(uint num) public pure returns (uint) {\n",
    "        return num * 7;\n",
    "    }\n",
    "}"
   ]
  },
  {
   "cell_type": "code",
   "execution_count": 4,
   "metadata": {
    "collapsed": false
   },
   "outputs": [
    {
     "name": "stdout",
     "output_type": "stream",
     "text": [
      "Overwriting src/LibraryTestPublic.sol\n"
     ]
    }
   ],
   "source": [
    "%%writefile src/LibraryTestPublic.sol\n",
    "pragma solidity ^0.6.0;\n",
    "\n",
    "import \"./myLib.sol\";\n",
    "\n",
    "contract LibrayTestPublic {\n",
    "    using myLib for uint256;\n",
    "    function multiply7By(uint num) public pure returns(uint) {\n",
    "        return num.multiply7();\n",
    "    }\n",
    "}"
   ]
  },
  {
   "cell_type": "markdown",
   "metadata": {
    "slideshow": {
     "slide_type": "subslide"
    }
   },
   "source": [
    "### 단계 2: 컴파일\n",
    "\n",
    "아래 코드를 보면 **placeholder**를 찾을 수 있다.\n",
    "\n",
    "#### 2-1 전체 컴파일\n",
    "\n",
    "* 컨트랙의 placeholder\n",
    "    * 컨트랙이 public library를 포함하고 있다면, 바이트코드에  ```__$2eb0f...473de$__``` 이런 식으로 라이브러리주소 넣을 자리 placeholder를 마련해 놓는다. 이 문자열은 34자리, 앞 뒤 underbar 4자리, 두자리 ampersand를 포함하여 총 **40 자리**로 구성되어 있다. 그 placeholder는 **library 명의 keccak256 hash의 hex 부호 34자리**이다.\n",
    "* 라이브러리의 abi, bin\n",
    "    * import 문을 사용했지만, abi와 bin을 출력하고 있다.\n",
    "    * 컴파일 한 결과를 위 ```internal library```와 비교해 보자. public library를 컴파일하면 ABI를 생성하고 있다는 점에서 차이가 있다.\n"
   ]
  },
  {
   "cell_type": "code",
   "execution_count": 4,
   "metadata": {
    "collapsed": true
   },
   "outputs": [],
   "source": [
    "!solc src/LibraryTestPublic.sol --combined-json abi,bin > src/LibraryTestPublic.json"
   ]
  },
  {
   "cell_type": "code",
   "execution_count": 6,
   "metadata": {
    "collapsed": false
   },
   "outputs": [
    {
     "name": "stdout",
     "output_type": "stream",
     "text": [
      "{\"contracts\":{\"src/LibraryTestPublic.sol:LibrayTestPublic\":{\"abi\":\"[{\\\"inputs\\\":[{\\\"internalType\\\":\\\"uint256\\\",\\\"name\\\":\\\"num\\\",\\\"type\\\":\\\"uint256\\\"}],\\\"name\\\":\\\"multiply7By\\\",\\\"outputs\\\":[{\\\"internalType\\\":\\\"uint256\\\",\\\"name\\\":\\\"\\\",\\\"type\\\":\\\"uint256\\\"}],\\\"stateMutability\\\":\\\"pure\\\",\\\"type\\\":\\\"function\\\"}]\",\"bin\":\"608060405234801561001057600080fd5b50610134806100206000396000f3fe6080604052348015600f57600080fd5b506004361060285760003560e01c80633e65296914602d575b600080fd5b605660048036036020811015604157600080fd5b8101908080359060200190929190505050606c565b6040518082815260200191505060405180910390f35b60008173__$2eb0fc2ba9c1b20950fd715a17616473de$__6350785a4b90916040518263ffffffff1660e01b81526004018082815260200191505060206040518083038186803b15801560be57600080fd5b505af415801560d1573d6000803e3d6000fd5b505050506040513d602081101560e657600080fd5b8101908080519060200190929190505050905091905056fea2646970667358221220f42ce135fbefe1ffc4eefc7bc0320c33dbdf257910573c611e2adf7c738edb8b64736f6c63430006010033\"},\"src/myLib.sol:myLib\":{\"abi\":\"[{\\\"inputs\\\":[{\\\"internalType\\\":\\\"uint256\\\",\\\"name\\\":\\\"num\\\",\\\"type\\\":\\\"uint256\\\"}],\\\"name\\\":\\\"multiply7\\\",\\\"outputs\\\":[{\\\"internalType\\\":\\\"uint256\\\",\\\"name\\\":\\\"\\\",\\\"type\\\":\\\"uint256\\\"}],\\\"stateMutability\\\":\\\"pure\\\",\\\"type\\\":\\\"function\\\"}]\",\"bin\":\"60ba610025600b82828239805160001a60731461001857fe5b30600052607381538281f3fe730000000000000000000000000000000000000000301460806040526004361060335760003560e01c806350785a4b146038575b600080fd5b606160048036036020811015604c57600080fd5b81019080803590602001909291905050506077565b6040518082815260200191505060405180910390f35b600060078202905091905056fea26469706673582212202c4ef8b8c642c789b4d677f81cf508bbfb8a05889f2fce2b41140a63cb207b4a64736f6c63430006010033\"}},\"version\":\"0.6.1+commit.e6f7d5a4.Linux.g++\"}\r\n"
     ]
    }
   ],
   "source": [
    "!cat src/LibraryTestPublic.json"
   ]
  },
  {
   "cell_type": "markdown",
   "metadata": {
    "slideshow": {
     "slide_type": "subslide"
    }
   },
   "source": [
    "#### 2-2 library 주소 구하기\n",
    "\n",
    "컴파일하고 나면 ```import```한 ```myLib.sol``` 라이브러리 abi, bin을 뒷부분에서 발견할 수 있는 이를 이용해서 배포해보자."
   ]
  },
  {
   "cell_type": "code",
   "execution_count": 9,
   "metadata": {
    "collapsed": false
   },
   "outputs": [
    {
     "name": "stdout",
     "output_type": "stream",
     "text": [
      "Overwriting src/myLibDeploy.js\n"
     ]
    }
   ],
   "source": [
    "%%writefile src/myLibDeploy.js\n",
    "var Web3 = require('web3');\n",
    "var web3 = new Web3(new Web3.providers.HttpProvider(\"http://117.16.44.45:8345\"));\n",
    "var fs = require('fs');\n",
    "var _str = fs.readFileSync(\"src/LibraryTestPublic.json\");\n",
    "var _json = JSON.parse(_str)\n",
    "//var _abiArray = JSON.parse(_json.contracts.sHello2.abi);\n",
    "var _abiArray = JSON.parse(_json.contracts[\"src/myLib.sol:myLib\"].abi);\n",
    "//var _bin = _json.contracts.sHello2.bin;\n",
    "var _bin = \"0x\" + _json.contracts[\"src/myLib.sol:myLib\"].bin;\n",
    "\n",
    "//unlock the account with a password provided\n",
    "//web3.personal.unlockAccount(web3.eth.accounts[0],'password');\n",
    "async function deploy() {\n",
    "    const accounts = await web3.eth.getAccounts();\n",
    "    console.log(\"Deploying the contract from \" + accounts[0]);\n",
    "    var deployed = await new web3.eth.Contract(_abiArray)\n",
    "        .deploy({data: _bin, arguments: [\"Hello from web3\"]})\n",
    "        .send({from: accounts[0], gas: 1000000}, function(err, transactionHash) {\n",
    "                if(!err) console.log(\"hash: \" + transactionHash); \n",
    "        })\n",
    "        //.then(function(newContractInstance){\n",
    "        //    console.log(newContractInstance.options.address)\n",
    "        //});\n",
    "    console.log(\"---> The contract deployed to: \" + deployed.options.address)\n",
    "}\n",
    "\n",
    "deploy()\n"
   ]
  },
  {
   "cell_type": "code",
   "execution_count": 10,
   "metadata": {
    "collapsed": false
   },
   "outputs": [
    {
     "name": "stdout",
     "output_type": "stream",
     "text": [
      "Deploying the contract from 0xA87e9e49512f32c345e34686a9897e4c06C13A87\n",
      "hash: 0xa1b09d821d54ed58609b7581b6fe4040a8e8a9e5aaf59800eb7784370b41c1d1\n",
      "---> The contract deployed to: 0x92b3CA97A7cD6aED69D88304D6a98D8e39cFb988\n"
     ]
    }
   ],
   "source": [
    "!node src/myLibDeploy.js"
   ]
  },
  {
   "cell_type": "markdown",
   "metadata": {
    "collapsed": true
   },
   "source": [
    "#### 2.3 링크\n",
    "\n",
    "라이브러리를 링크해서 컴파일한다.\n",
    "solc 명령어로 링크를 하면 placeholder 그 자리에 라이브러리 주소를 넣어 연결하게 된다.\n",
    "\n",
    "컴파일할 때 solc에 ```--libraries \"file.sol:Math:0x1234567890123456789012345678901234567890```\n"
   ]
  },
  {
   "cell_type": "markdown",
   "metadata": {
    "slideshow": {
     "slide_type": "subslide"
    }
   },
   "source": [
    "#### 자동\n",
    "\n",
    "```myLib```은 간편하게 라이브러리 명만 넣어도 되고, 아래와 같이 경로 ```src/myLib.sol```와 같이 라이브러리명 ```myLib```을 같이 적어도 된다.\n",
    "```python\n",
    "!solc src/LibraryTestPublic.sol --libraries \"src/myLib.sol:myLib:0x92b3CA97A7cD6aED69D88304D6a98D8e39cFb988\" --combined-json abi,bin > src/LibraryTestPublicLink__.json\n",
    "```"
   ]
  },
  {
   "cell_type": "code",
   "execution_count": 13,
   "metadata": {
    "collapsed": true
   },
   "outputs": [],
   "source": [
    "!solc src/LibraryTestPublic.sol --libraries \"myLib:0x92b3CA97A7cD6aED69D88304D6a98D8e39cFb988\" --combined-json abi,bin > src/LibraryTestPublicLink.json"
   ]
  },
  {
   "cell_type": "code",
   "execution_count": null,
   "metadata": {
    "collapsed": true
   },
   "outputs": [],
   "source": [
    "아래에서 보듯이 ```myLib``` 배포주소를 placeholder에 넣고 있다."
   ]
  },
  {
   "cell_type": "code",
   "execution_count": 14,
   "metadata": {
    "collapsed": false
   },
   "outputs": [
    {
     "name": "stdout",
     "output_type": "stream",
     "text": [
      "{\"contracts\":{\"src/LibraryTestPublic.sol:LibrayTestPublic\":{\"abi\":\"[{\\\"inputs\\\":[{\\\"internalType\\\":\\\"uint256\\\",\\\"name\\\":\\\"num\\\",\\\"type\\\":\\\"uint256\\\"}],\\\"name\\\":\\\"multiply7By\\\",\\\"outputs\\\":[{\\\"internalType\\\":\\\"uint256\\\",\\\"name\\\":\\\"\\\",\\\"type\\\":\\\"uint256\\\"}],\\\"stateMutability\\\":\\\"pure\\\",\\\"type\\\":\\\"function\\\"}]\",\"bin\":\"608060405234801561001057600080fd5b50610134806100206000396000f3fe6080604052348015600f57600080fd5b506004361060285760003560e01c80633e65296914602d575b600080fd5b605660048036036020811015604157600080fd5b8101908080359060200190929190505050606c565b6040518082815260200191505060405180910390f35b6000817392b3ca97a7cd6aed69d88304d6a98d8e39cfb9886350785a4b90916040518263ffffffff1660e01b81526004018082815260200191505060206040518083038186803b15801560be57600080fd5b505af415801560d1573d6000803e3d6000fd5b505050506040513d602081101560e657600080fd5b8101908080519060200190929190505050905091905056fea2646970667358221220b7fd4b9a557f766ed27a5cb23f11e1910489af0d9de283e425eda924ec291f8864736f6c63430006010033\"},\"src/myLib.sol:myLib\":{\"abi\":\"[{\\\"inputs\\\":[{\\\"internalType\\\":\\\"uint256\\\",\\\"name\\\":\\\"num\\\",\\\"type\\\":\\\"uint256\\\"}],\\\"name\\\":\\\"multiply7\\\",\\\"outputs\\\":[{\\\"internalType\\\":\\\"uint256\\\",\\\"name\\\":\\\"\\\",\\\"type\\\":\\\"uint256\\\"}],\\\"stateMutability\\\":\\\"pure\\\",\\\"type\\\":\\\"function\\\"}]\",\"bin\":\"60ba610025600b82828239805160001a60731461001857fe5b30600052607381538281f3fe730000000000000000000000000000000000000000301460806040526004361060335760003560e01c806350785a4b146038575b600080fd5b606160048036036020811015604c57600080fd5b81019080803590602001909291905050506077565b6040518082815260200191505060405180910390f35b600060078202905091905056fea2646970667358221220542b47c0c022f22034b22679ac80a67f5c447e85c3e9ce2ada3765edb874d1f864736f6c63430006010033\"}},\"version\":\"0.6.1+commit.e6f7d5a4.Linux.g++\"}\r\n"
     ]
    }
   ],
   "source": [
    "!cat src/LibraryTestPublicLink.json"
   ]
  },
  {
   "cell_type": "markdown",
   "metadata": {
    "collapsed": true
   },
   "source": [
    "#### 수동\n",
    "\n",
    "컴파일을 하고 나면, myLib 라이브러리가 public함수라서 binary에 placeholder가 위치하고 있다는 것을 알 수 있다.\n",
    "작업순서:\n",
    "\n",
    "* 1. 위 2.1에서 생성한 bytecode를 복사해오자.\n",
    "\n",
    "```python\n",
    "608060405234801561001057600080fd5b50610134806100206000396000f3fe6080604052348015600f57600080fd5b506004361060285760003560e01c80633e65296914602d575b600080fd5b605660048036036020811015604157600080fd5b8101908080359060200190929190505050606c565b6040518082815260200191505060405180910390f35b60008173__$2eb0fc2ba9c1b20950fd715a17616473de$__6350785a4b90916040518263ffffffff1660e01b81526004018082815260200191505060206040518083038186803b15801560be57600080fd5b505af415801560d1573d6000803e3d6000fd5b505050506040513d602081101560e657600080fd5b8101908080519060200190929190505050905091905056fea2646970667358221220f42ce135fbefe1ffc4eefc7bc0320c33dbdf257910573c611e2adf7c738edb8b64736f6c63430006010033\n",
    "```\n",
    "\n",
    "* 2. 위 2.2에서 library myLib 배포 후 얻은 주소를 복사해오자.\n",
    "\n",
    "```python\n",
    "0xFFd1f58a808ab6001133eA3a60e07f4991E6012e\n",
    "```\n",
    "\n",
    "* 3. 수작업으로 placeholder에 myLib주소 복사\n",
    "\n",
    "위 주소에서 ```0x```를 제거하고, placeholder에 복사해 넣자.\n",
    "아래는 예시로 일부러 underbar를 남겨 놓았지만 당연히 제거되어야 한다.\n",
    "\n",
    "```python\n",
    "608060405234801561001057600080fd5b50610134806100206000396000f3fe6080604052348015600f57600080fd5b506004361060285760003560e01c80633e65296914602d575b600080fd5b605660048036036020811015604157600080fd5b8101908080359060200190929190505050606c565b6040518082815260200191505060405180910390f35b60008173__FFd1f58a808ab6001133eA3a60e07f4991E6012e__6350785a4b90916040518263ffffffff1660e01b81526004018082815260200191505060206040518083038186803b15801560be57600080fd5b505af415801560d1573d6000803e3d6000fd5b505050506040513d602081101560e657600080fd5b8101908080519060200190929190505050905091905056fea2646970667358221220f42ce135fbefe1ffc4eefc7bc0320c33dbdf257910573c611e2adf7c738edb8b64736f6c63430006010033\n",
    "```\n",
    "\n",
    "underbar를 제거하고 실제로 사용할 (library의 주소가 포함된) bytecode이다.\n",
    "```python\n",
    "608060405234801561001057600080fd5b50610134806100206000396000f3fe6080604052348015600f57600080fd5b506004361060285760003560e01c80633e65296914602d575b600080fd5b605660048036036020811015604157600080fd5b8101908080359060200190929190505050606c565b6040518082815260200191505060405180910390f35b60008173FFd1f58a808ab6001133eA3a60e07f4991E6012e6350785a4b90916040518263ffffffff1660e01b81526004018082815260200191505060206040518083038186803b15801560be57600080fd5b505af415801560d1573d6000803e3d6000fd5b505050506040513d602081101560e657600080fd5b8101908080519060200190929190505050905091905056fea2646970667358221220f42ce135fbefe1ffc4eefc7bc0320c33dbdf257910573c611e2adf7c738edb8b64736f6c63430006010033\n",
    "```"
   ]
  },
  {
   "cell_type": "markdown",
   "metadata": {
    "collapsed": true
   },
   "source": [
    "### 단계 3: 배포\n",
    "\n",
    "위에서 작성된 ```LibraryTestPublicLink.json```의 abi, bin을 사용하여 배포하자."
   ]
  },
  {
   "cell_type": "code",
   "execution_count": 29,
   "metadata": {
    "collapsed": false
   },
   "outputs": [
    {
     "name": "stdout",
     "output_type": "stream",
     "text": [
      "Overwriting src/LibraryTestPublicDeploy.js\n"
     ]
    }
   ],
   "source": [
    "%%writefile src/LibraryTestPublicDeploy.js\n",
    "var Web3 = require('web3');\n",
    "var web3 = new Web3(new Web3.providers.HttpProvider(\"http://117.16.44.45:8345\"));\n",
    "var fs = require('fs');\n",
    "//var _str = fs.readFileSync(\"src/LibraryTestPublicLink__.json\");\n",
    "var _str = fs.readFileSync(\"src/LibraryTestPublicLink.json\");\n",
    "var _json = JSON.parse(_str)\n",
    "//var _abiArray = JSON.parse(_json.contracts.sHello2.abi);\n",
    "var _abiArray = JSON.parse(_json.contracts[\"src/LibraryTestPublic.sol:LibrayTestPublic\"].abi);\n",
    "//var _bin = _json.contracts.sHello2.bin;\n",
    "var _bin = \"0x\" + _json.contracts[\"src/LibraryTestPublic.sol:LibrayTestPublic\"].bin;\n",
    "\n",
    "//unlock the account with a password provided\n",
    "//web3.personal.unlockAccount(web3.eth.accounts[0],'password');\n",
    "async function deploy() {\n",
    "    const accounts = await web3.eth.getAccounts();\n",
    "    console.log(\"Deploying the contract from \" + accounts[0]);\n",
    "    var deployed = await new web3.eth.Contract(_abiArray)\n",
    "        .deploy({data: _bin, arguments: [\"Hello from web3\"]})\n",
    "        .send({from: accounts[0], gas: 1000000}, function(err, transactionHash) {\n",
    "                if(!err) console.log(\"hash: \" + transactionHash); \n",
    "        })\n",
    "        //.then(function(newContractInstance){\n",
    "        //    console.log(newContractInstance.options.address)\n",
    "        //});\n",
    "    console.log(\"---> The contract deployed to: \" + deployed.options.address)\n",
    "}\n",
    "\n",
    "deploy()\n"
   ]
  },
  {
   "cell_type": "code",
   "execution_count": 30,
   "metadata": {
    "collapsed": false
   },
   "outputs": [
    {
     "name": "stdout",
     "output_type": "stream",
     "text": [
      "Deploying the contract from 0xA87e9e49512f32c345e34686a9897e4c06C13A87\n",
      "hash: 0xbde312f88df1a3f726fd90b2e08e0fe7694eef0e3a481079886e83d480d4bcf9\n",
      "---> The contract deployed to: 0xC8FE2b469EBff792EC6bAf66180387Ddb9bA3dE0\n"
     ]
    }
   ],
   "source": [
    "!node src/LibraryTestPublicDeploy.js"
   ]
  },
  {
   "cell_type": "markdown",
   "metadata": {},
   "source": [
    "### 단계 4: 사용"
   ]
  },
  {
   "cell_type": "code",
   "execution_count": 31,
   "metadata": {
    "collapsed": false
   },
   "outputs": [
    {
     "name": "stdout",
     "output_type": "stream",
     "text": [
      "Overwriting src/LibraryTestPublicUse.js\n"
     ]
    }
   ],
   "source": [
    "%%writefile src/LibraryTestPublicUse.js\n",
    "var Web3 = require('web3');\n",
    "var web3 = new Web3(new Web3.providers.HttpProvider(\"http://117.16.44.45:8345\"));\n",
    "var fs = require('fs');\n",
    "//var _str = fs.readFileSync(\"src/LibraryTestPublicLink__.json\");\n",
    "var _str = fs.readFileSync(\"src/LibraryTestPublicLink.json\");\n",
    "var _json = JSON.parse(_str)\n",
    "//var _abiArray = JSON.parse(_json.contracts.sHello2.abi);\n",
    "var _abiArray = JSON.parse(_json.contracts[\"src/LibraryTestPublic.sol:LibrayTestPublic\"].abi);\n",
    "\n",
    "async function doIt() {\n",
    "    var lib = new web3.eth.Contract(_abiArray, \"0xC8FE2b469EBff792EC6bAf66180387Ddb9bA3dE0\");\n",
    "    const accounts = await web3.eth.getAccounts();\n",
    "    console.log(\"Account: \" + accounts[0]);\n",
    "    lib.methods.multiply7By(5).estimateGas(function(err,gas) {\n",
    "        if(!err) console.log(\">> gas: \"+ gas);\n",
    "    });\n",
    "    lib.methods.multiply7By(5).call().then(console.log);\n",
    "}\n",
    "\n",
    "doIt()\n"
   ]
  },
  {
   "cell_type": "code",
   "execution_count": 32,
   "metadata": {
    "collapsed": false
   },
   "outputs": [
    {
     "name": "stdout",
     "output_type": "stream",
     "text": [
      "Account: 0xA87e9e49512f32c345e34686a9897e4c06C13A87\n",
      ">> gas: 23649\n",
      "35\n"
     ]
    }
   ],
   "source": [
    "!node src/LibraryTestPublicUse.js"
   ]
  },
  {
   "cell_type": "code",
   "execution_count": null,
   "metadata": {
    "collapsed": true
   },
   "outputs": [],
   "source": []
  },
  {
   "cell_type": "markdown",
   "metadata": {
    "slideshow": {
     "slide_type": "slide"
    }
   },
   "source": [
    "## 실습: 라이브러리 링크 - 바이트코드 placeholder에 주소를 넣어서"
   ]
  },
  {
   "cell_type": "markdown",
   "metadata": {
    "collapsed": true
   },
   "source": [
    "## 외부 라이브러리\n",
    "\n",
    "외부 라이브러리는 다음과 같다.\n",
    "* Modular network https://github.com/modular-network/ethereum-libraries: ArrayUtils, BasicMath, CrowdSale, LinkedList, StringUtils, Token, Vesting, Wallet\n",
    "* OpenZeppelin : Roles, ECDSA, MerkleProof, SafeERC20, ERC165Checker, Math, SafeMath (to protect from overflow), Address, Arrays,\n",
    "* Dapp-bin by Ethereum https://github.com/ethereum/dapp-bin: IterableMapping, DoublyLinkedList, StringUtils"
   ]
  },
  {
   "cell_type": "markdown",
   "metadata": {},
   "source": [
    "## 실습: 제삼자가 제공하는 github 라이브러리\n",
    "\n",
    "```github.com``` 소스를 직접 컴파일하는 것은 안된다. REMIX는 소스를 다운로드 받아서 사용하므로, 아래 같은 매핑을 사용하지 않아도 된다.\n",
    "```solc``` 컴파일할 할 경우, ```github``` 소스코드를 ```import```하고 컴파일할 경우에는 내려받아서 사용하고 그 디렉토리에 사용허가 권한을 부여해야 한다. \n",
    "\n",
    "예를 들어, ```github.com/ethereum/dapp-bin/``` 를 사용한다고 하자.\n",
    "* **단계 1. import 문**\n",
    "소스에는 다음과 같이 ```github.com```까지 포함해서 직접 적어준다. ```https://``` 또는 ```blob/master``` 같은 용어는 적지 않는다.\n",
    "```python\n",
    "import \"github.com/ethereum/dapp-bin/library/iterable_mapping.sol\" as it_mapping;\n",
    "```\n",
    "원래의 URL은 ```https://github.com/ethereum/dapp-bin/blob/master/library/stringUtils.sol```이다. 여기서 ```https://```와 ```blob/master/``` 등을 제거하고 실제 ```github.com/ethereum/dapp-bin/library/stringUtils.sol```을 적어준다.\n",
    "\n",
    "\n",
    "* **단계 2. 경로 재지정 remapping**\n",
    "\n",
    "solc 컴파일하려면\n",
    "```solc```는 ```github```에서 직접 파일을 가져오지 못한다. 해당 github repo를 clone하고 재지정해주어야 한다.\n",
    "    * 2.1 소스를 git clone한다. 예를 들어, ```github.com/ethereum/dapp-bin/``` 를 ```/usr/local/dapp-bin```으로 clone한다\n",
    "    * 2.2 소스의 URL을 로컬디렉토리로 대체해 주고 컴파일할 때는 다음과 같이 적어준다.\n",
    "\n",
    "```python\n",
    "solc github.com/ethereum/dapp-bin/=/usr/local/dapp-bin/ source.sol\n",
    "```\n",
    "```import``` 문에 쓰인 경로를 재지정하여 파일을 읽을 수 있게 하는 것으로,\n",
    "```github.com/ethereum/dapp-bin/``` 으로 **시작하는 선행 경로 ```prefix```**를 ```/usr/local/lib/dapp-bin/```로 **로컬 경로 ```path```**로 변경하고,\n",
    "단순히 해당 파일을 찾는 디렉토리를 재지정하는 것이다. 즉 ```prefix=path```로 재지정 remapping한다.\n"
   ]
  },
  {
   "cell_type": "markdown",
   "metadata": {},
   "source": [
    "## 실습: 라이브러리를 사용해서 정수 연산\n"
   ]
  },
  {
   "cell_type": "markdown",
   "metadata": {},
   "source": [
    "### 단계 1: 컨트랙 개발\n",
    "\n",
    "지금은 internal library이지만 외부로 변경할 예정\n",
    "\n",
    "https://github.com/OpenZeppelin/openzeppelin-contracts/blob/master/contracts/math/SafeMath.sol\n",
    "\n",
    "컴파일은 0.6 이상에서 하고, 함수는 ```internal```"
   ]
  },
  {
   "cell_type": "code",
   "execution_count": 33,
   "metadata": {
    "collapsed": false
   },
   "outputs": [
    {
     "name": "stdout",
     "output_type": "stream",
     "text": [
      "Overwriting src/SafeMath.sol\n"
     ]
    }
   ],
   "source": [
    "%%writefile src/SafeMath.sol\n",
    "pragma solidity ^0.6.0;\n",
    "library SafeMath {\n",
    "    function mul(uint256 a, uint256 b) internal pure returns (uint256) {\n",
    "       if (a == 0) {\n",
    "            return 0;\n",
    "        }\n",
    "        uint256 c = a * b;\n",
    "        require(c / a == b, \"SafeMath: multiplication overflow\");\n",
    "        return c;\n",
    "    }\n",
    "\n",
    "    function div(uint256 a, uint256 b) internal pure returns (uint256) {\n",
    "        return div(a, b, \"SafeMath: division by zero\");\n",
    "    }\n",
    "\n",
    "    function div(uint256 a, uint256 b, string memory errorMessage) internal pure returns (uint256) {\n",
    "        require(b > 0, errorMessage);\n",
    "        uint256 c = a / b;\n",
    "        return c;\n",
    "    }\n",
    "\n",
    "    function sub(uint256 a, uint256 b) internal pure returns (uint256) {\n",
    "        return sub(a, b, \"SafeMath: subtraction overflow\");\n",
    "    }\n",
    "\n",
    "    function sub(uint256 a, uint256 b, string memory errorMessage) internal pure returns (uint256) {\n",
    "        require(b <= a, errorMessage);\n",
    "        uint256 c = a - b;\n",
    "        return c;\n",
    "    }\n",
    "\n",
    "    function add(uint256 a, uint256 b) internal pure returns (uint256) {\n",
    "        uint256 c = a + b;\n",
    "        require(c >= a, \"SafeMath: addition overflow\");\n",
    "        return c;\n",
    "    }\n",
    "}"
   ]
  },
  {
   "cell_type": "code",
   "execution_count": 4,
   "metadata": {
    "collapsed": false
   },
   "outputs": [
    {
     "name": "stdout",
     "output_type": "stream",
     "text": [
      "Overwriting src/TestSafeMath.sol\n"
     ]
    }
   ],
   "source": [
    "%%writefile src/TestSafeMath.sol\n",
    "pragma solidity ^0.6.0;\n",
    "\n",
    "import \"./SafeMath.sol\";\n",
    "\n",
    "contract TestSafeMath {   \n",
    "    using SafeMath for uint256;    \n",
    "    function add(uint256 x, uint256 y) public pure returns (uint256) {\n",
    "        uint256 z = x.add(y);\n",
    "        return z;\n",
    "    }\n",
    "}"
   ]
  },
  {
   "cell_type": "markdown",
   "metadata": {},
   "source": [
    "### 단계 2: 컴파일"
   ]
  },
  {
   "cell_type": "code",
   "execution_count": 9,
   "metadata": {
    "collapsed": true
   },
   "outputs": [],
   "source": [
    "!solc src/TestSafeMath.sol --combined-json abi,bin > src/TestSafeMath.json"
   ]
  },
  {
   "cell_type": "code",
   "execution_count": 10,
   "metadata": {
    "collapsed": false
   },
   "outputs": [
    {
     "name": "stdout",
     "output_type": "stream",
     "text": [
      "{\"contracts\":{\"src/SafeMath.sol:SafeMath\":{\"abi\":\"[]\",\"bin\":\"60566023600b82828239805160001a607314601657fe5b30600052607381538281f3fe73000000000000000000000000000000000000000030146080604052600080fdfea26469706673582212207b5b2523e13fcae7ff82d2c9fb39b280a5193c67b625b428e8431011c83852c764736f6c63430006010033\"},\"src/TestSafeMath.sol:TestSafeMath\":{\"abi\":\"[{\\\"inputs\\\":[{\\\"internalType\\\":\\\"uint256\\\",\\\"name\\\":\\\"x\\\",\\\"type\\\":\\\"uint256\\\"},{\\\"internalType\\\":\\\"uint256\\\",\\\"name\\\":\\\"y\\\",\\\"type\\\":\\\"uint256\\\"}],\\\"name\\\":\\\"add\\\",\\\"outputs\\\":[{\\\"internalType\\\":\\\"uint256\\\",\\\"name\\\":\\\"\\\",\\\"type\\\":\\\"uint256\\\"}],\\\"stateMutability\\\":\\\"pure\\\",\\\"type\\\":\\\"function\\\"}]\",\"bin\":\"608060405234801561001057600080fd5b5061015c806100206000396000f3fe608060405234801561001057600080fd5b506004361061002b5760003560e01c8063771602f714610030575b600080fd5b6100666004803603604081101561004657600080fd5b81019080803590602001909291908035906020019092919050505061007c565b6040518082815260200191505060405180910390f35b600080610092838561009e90919063ffffffff16565b90508091505092915050565b60008082840190508381101561011c576040517f08c379a000000000000000000000000000000000000000000000000000000000815260040180806020018281038252601b8152602001807f536166654d6174683a206164646974696f6e206f766572666c6f77000000000081525060200191505060405180910390fd5b809150509291505056fea264697066735822122029d9995da2da645f9948d5c17455f769ea56dabb7ec2c7cc98a55ff6dfa47bc164736f6c63430006010033\"}},\"version\":\"0.6.1+commit.e6f7d5a4.Linux.g++\"}\r\n"
     ]
    }
   ],
   "source": [
    "!cat src/TestSafeMath.json"
   ]
  },
  {
   "cell_type": "markdown",
   "metadata": {},
   "source": [
    "### 단계 3: 배포\n",
    "\n",
    "TestSafeMath.sol의 abi, bin을 생성하고, 객체를 생성하는데 넣어준다."
   ]
  },
  {
   "cell_type": "code",
   "execution_count": 11,
   "metadata": {
    "collapsed": false
   },
   "outputs": [
    {
     "name": "stdout",
     "output_type": "stream",
     "text": [
      "Overwriting src/TestSafeMathDeploy.js\n"
     ]
    }
   ],
   "source": [
    "%%writefile src/TestSafeMathDeploy.js\n",
    "var Web3 = require('web3');\n",
    "var web3 = new Web3(new Web3.providers.HttpProvider(\"http://117.16.44.45:8345\"));\n",
    "var fs = require('fs');\n",
    "var _str = fs.readFileSync(\"src/TestSafeMath.json\");\n",
    "var _json = JSON.parse(_str)\n",
    "//var _abiArray = JSON.parse(_json.contracts.sHello2.abi);\n",
    "var _abiArray = JSON.parse(_json.contracts[\"src/TestSafeMath.sol:TestSafeMath\"].abi);\n",
    "//var _bin = _json.contracts.sHello2.bin;\n",
    "var _bin = \"0x\" + _json.contracts[\"src/TestSafeMath.sol:TestSafeMath\"].bin;\n",
    "\n",
    "//unlock the account with a password provided\n",
    "//web3.personal.unlockAccount(web3.eth.accounts[0],'password');\n",
    "async function deploy() {\n",
    "    const accounts = await web3.eth.getAccounts();\n",
    "    console.log(\"Deploying the contract from \" + accounts[0]);\n",
    "    var deployed = await new web3.eth.Contract(_abiArray)\n",
    "        .deploy({data: _bin})\n",
    "        .send({from: accounts[0], gas: 1000000}, function(err, transactionHash) {\n",
    "                if(!err) console.log(\"hash: \" + transactionHash); \n",
    "        })\n",
    "        //.then(function(newContractInstance){\n",
    "        //    console.log(newContractInstance.options.address)\n",
    "        //});\n",
    "    console.log(\"---> The contract deployed to: \" + deployed.options.address)\n",
    "}\n",
    "\n",
    "deploy()\n"
   ]
  },
  {
   "cell_type": "code",
   "execution_count": 12,
   "metadata": {
    "collapsed": false
   },
   "outputs": [
    {
     "name": "stdout",
     "output_type": "stream",
     "text": [
      "Deploying the contract from 0xA87e9e49512f32c345e34686a9897e4c06C13A87\n",
      "hash: 0x1b14656d5b0a98c049d4ee285a574f9abde07b0b78be6ce13722c43640b53673\n",
      "---> The contract deployed to: 0x520E0d4e4254518600F027de3439f756e74E5809\n"
     ]
    }
   ],
   "source": [
    "!node src/TestSafeMathDeploy.js"
   ]
  },
  {
   "cell_type": "code",
   "execution_count": null,
   "metadata": {
    "collapsed": true
   },
   "outputs": [],
   "source": []
  },
  {
   "cell_type": "markdown",
   "metadata": {},
   "source": [
    "### 단계 4: 사용"
   ]
  },
  {
   "cell_type": "code",
   "execution_count": 13,
   "metadata": {
    "collapsed": false
   },
   "outputs": [
    {
     "name": "stdout",
     "output_type": "stream",
     "text": [
      "Overwriting src/TestSafeMathUse.js\n"
     ]
    }
   ],
   "source": [
    "%%writefile src/TestSafeMathUse.js\n",
    "var Web3 = require('web3');\n",
    "var web3 = new Web3(new Web3.providers.HttpProvider(\"http://117.16.44.45:8345\"));\n",
    "var fs = require('fs');\n",
    "var _str = fs.readFileSync(\"src/TestSafeMath.json\");\n",
    "var _json = JSON.parse(_str)\n",
    "//var _abiArray = JSON.parse(_json.contracts.sHello2.abi);\n",
    "var _abiArray = JSON.parse(_json.contracts[\"src/TestSafeMath.sol:TestSafeMath\"].abi);\n",
    "\n",
    "async function doIt() {\n",
    "    var lib = new web3.eth.Contract(_abiArray, \"0x520E0d4e4254518600F027de3439f756e74E5809\");\n",
    "    const accounts = await web3.eth.getAccounts();\n",
    "    console.log(\"Account: \" + accounts[0]);\n",
    "    lib.methods.add(11,20).estimateGas(function(err,gas) {\n",
    "        if(!err) console.log(\">> gas: \"+ gas);\n",
    "    });\n",
    "    lib.methods.add(11,20).call().then(console.log);\n",
    "}\n",
    "\n",
    "doIt()\n"
   ]
  },
  {
   "cell_type": "code",
   "execution_count": 14,
   "metadata": {
    "collapsed": false
   },
   "outputs": [
    {
     "name": "stdout",
     "output_type": "stream",
     "text": [
      "Account: 0xA87e9e49512f32c345e34686a9897e4c06C13A87\n",
      ">> gas: 22084\n",
      "31\n"
     ]
    }
   ],
   "source": [
    "!node src/TestSafeMathUse.js"
   ]
  },
  {
   "cell_type": "code",
   "execution_count": null,
   "metadata": {
    "collapsed": true
   },
   "outputs": [],
   "source": []
  },
  {
   "cell_type": "markdown",
   "metadata": {},
   "source": [
    "## 실습: OpenZeppelin\n",
    "\n",
    "라이브러리 소스코드가 github에 있는 경우는 다운로드 받아서, 노드에서 설치할 수 있으면 설치해서 사용하면 된다.\n",
    "\n",
    "###  단계 1: 컨트랙 개발\n",
    "\n",
    "* **설치**\n",
    "노드에서 ```npm install @openzeppelin/contracts```를 설치하면,\n",
    "```node_modules/@openzeppelin/contracts/math``` 아래 디렉토리에 설치되어 있다.\n",
    "\n",
    "* **import 문**\n",
    "```import \"@openzeppelin/contracts/math/SafeMath.sol\";```\n",
    "이 파일은 ```pragma solidity ^0.5.0;``` 버전이 다르기 때문에 맞추어 주어야 한다.\n",
    "위 ```@openzeppelin/contracts/math/SafeMath.sol\";```는 인식이 되지 않으므로\n",
    "현재 컴파일하는 파일 기준의 **상대경로**를 넣어준다.\n",
    "\n",
    "* **경로 재지정 및 접근경로 제한 풀어주기**\n",
    "상대경로로 지정하였으므로, solc에서는 보통 해주던 것처럼 하면된다.\n",
    "단 그 경로를 사용하는 것이 보안상 제한되므로 풀어준다.\n",
    "solc 컴파일하는 소스코드가 있는 경로, **재지정된 경로 외에는 접근 할 수 없도록 보안 제한**을 하게 된다.\n",
    "```--allow-paths /sample/path,/another/sample/path``` 스위치를 넣어준다."
   ]
  },
  {
   "cell_type": "code",
   "execution_count": 38,
   "metadata": {
    "collapsed": false
   },
   "outputs": [
    {
     "name": "stdout",
     "output_type": "stream",
     "text": [
      "Overwriting src/TestSafeMathZeppelin.sol\n"
     ]
    }
   ],
   "source": [
    "%%writefile src/TestSafeMathZeppelin.sol\n",
    "pragma solidity ^0.6.0;\n",
    "\n",
    "import \"../node_modules/@openzeppelin/contracts/math/SafeMath.sol\";\n",
    "//import \"github.com/OpenZeppelin/openzeppelin-contracts/contracts/math/SafeMath.sol\";\n",
    "\n",
    "contract TestSafeMath {   \n",
    "    using SafeMath for uint256;\n",
    "    function add(uint256 x, uint256 y) public pure returns (uint256) {\n",
    "        uint256 z = x.add(y);\n",
    "        return z;\n",
    "    }\n",
    "}\n"
   ]
  },
  {
   "cell_type": "markdown",
   "metadata": {},
   "source": [
    "### 단계 2: 컴파일\n",
    "보안의 이유로 Solidity는 디렉토리 접근 권한을 제한하고 있다. ```Error: Source \"@openzeppelin/contracts/math/SafeMath.sol\" not foundFile outside of allowed directories.```. 이를 허용하기 위해 **```--allow-paths```**를 넣어준다. 뒤에 절대경로를 넣어주면 된다.\n",
    "\n",
    "```SafeMath``` 경로로 ```import```문에 사용되었던 경로 ```node_modules/@openzeppelin/contracts/math/SafeMath.sol:SafeMath```가 쓰이고 있다는 것을 발견할 수 있다."
   ]
  },
  {
   "cell_type": "code",
   "execution_count": 39,
   "metadata": {
    "collapsed": true
   },
   "outputs": [],
   "source": [
    "!solc src/TestSafeMathZeppelin.sol --allow-paths . --combined-json abi,bin > src/TestSafeMathZeppelin.json"
   ]
  },
  {
   "cell_type": "code",
   "execution_count": 40,
   "metadata": {
    "collapsed": false
   },
   "outputs": [
    {
     "name": "stdout",
     "output_type": "stream",
     "text": [
      "{\"contracts\":{\"node_modules/@openzeppelin/contracts/math/SafeMath.sol:SafeMath\":{\"abi\":\"[]\",\"bin\":\"60566023600b82828239805160001a607314601657fe5b30600052607381538281f3fe73000000000000000000000000000000000000000030146080604052600080fdfea2646970667358221220afc62b6f5eb69eb6c800dac070a604f133842a1c4ea43bb7f1da301dd09c7e8b64736f6c63430006010033\"},\"src/TestSafeMathZeppelin.sol:TestSafeMath\":{\"abi\":\"[{\\\"inputs\\\":[{\\\"internalType\\\":\\\"uint256\\\",\\\"name\\\":\\\"x\\\",\\\"type\\\":\\\"uint256\\\"},{\\\"internalType\\\":\\\"uint256\\\",\\\"name\\\":\\\"y\\\",\\\"type\\\":\\\"uint256\\\"}],\\\"name\\\":\\\"add\\\",\\\"outputs\\\":[{\\\"internalType\\\":\\\"uint256\\\",\\\"name\\\":\\\"\\\",\\\"type\\\":\\\"uint256\\\"}],\\\"stateMutability\\\":\\\"pure\\\",\\\"type\\\":\\\"function\\\"}]\",\"bin\":\"608060405234801561001057600080fd5b5061015c806100206000396000f3fe608060405234801561001057600080fd5b506004361061002b5760003560e01c8063771602f714610030575b600080fd5b6100666004803603604081101561004657600080fd5b81019080803590602001909291908035906020019092919050505061007c565b6040518082815260200191505060405180910390f35b600080610092838561009e90919063ffffffff16565b90508091505092915050565b60008082840190508381101561011c576040517f08c379a000000000000000000000000000000000000000000000000000000000815260040180806020018281038252601b8152602001807f536166654d6174683a206164646974696f6e206f766572666c6f77000000000081525060200191505060405180910390fd5b809150509291505056fea2646970667358221220bf282ef20f7d47cef1453d99c1b41b40f2e5dae4068cc76330c01929a998c1da64736f6c63430006010033\"}},\"version\":\"0.6.1+commit.e6f7d5a4.Linux.g++\"}\r\n"
     ]
    }
   ],
   "source": [
    "!cat src/TestSafeMathZeppelin.json"
   ]
  },
  {
   "cell_type": "markdown",
   "metadata": {},
   "source": [
    "### 단계 3: 배포\n",
    "\n",
    "위 ```TestSafeMathZeppelin```의 abi, bin을 사용해서, 객체를 생성하는데 넣어준다."
   ]
  },
  {
   "cell_type": "code",
   "execution_count": 41,
   "metadata": {
    "collapsed": false
   },
   "outputs": [
    {
     "name": "stdout",
     "output_type": "stream",
     "text": [
      "Writing src/TestSafeMathZeppelinDeploy.js\n"
     ]
    }
   ],
   "source": [
    "%%writefile src/TestSafeMathZeppelinDeploy.js\n",
    "var Web3 = require('web3');\n",
    "var web3 = new Web3(new Web3.providers.HttpProvider(\"http://117.16.44.45:8345\"));\n",
    "var fs = require('fs');\n",
    "var _str = fs.readFileSync(\"src/TestSafeMathZeppelin.json\");\n",
    "var _json = JSON.parse(_str)\n",
    "//var _abiArray = JSON.parse(_json.contracts.sHello2.abi);\n",
    "var _abiArray = JSON.parse(_json.contracts[\"src/TestSafeMathZeppelin.sol:TestSafeMath\"].abi);\n",
    "//var _bin = _json.contracts.sHello2.bin;\n",
    "var _bin = \"0x\" + _json.contracts[\"src/TestSafeMathZeppelin.sol:TestSafeMath\"].bin;\n",
    "\n",
    "//unlock the account with a password provided\n",
    "//web3.personal.unlockAccount(web3.eth.accounts[0],'password');\n",
    "async function deploy() {\n",
    "    const accounts = await web3.eth.getAccounts();\n",
    "    console.log(\"Deploying the contract from \" + accounts[0]);\n",
    "    var deployed = await new web3.eth.Contract(_abiArray)\n",
    "        .deploy({data: _bin})\n",
    "        .send({from: accounts[0], gas: 1000000}, function(err, transactionHash) {\n",
    "                if(!err) console.log(\"hash: \" + transactionHash); \n",
    "        })\n",
    "        //.then(function(newContractInstance){\n",
    "        //    console.log(newContractInstance.options.address)\n",
    "        //});\n",
    "    console.log(\"---> The contract deployed to: \" + deployed.options.address)\n",
    "}\n",
    "\n",
    "deploy()\n"
   ]
  },
  {
   "cell_type": "code",
   "execution_count": 42,
   "metadata": {
    "collapsed": false,
    "scrolled": true
   },
   "outputs": [
    {
     "name": "stdout",
     "output_type": "stream",
     "text": [
      "Deploying the contract from 0xA87e9e49512f32c345e34686a9897e4c06C13A87\n",
      "hash: 0x068204ac67e70f632c53d2e771b9676834654a5487aa74e3ad0595fe81701a4f\n",
      "---> The contract deployed to: 0x95995FcC570A4479095C08fadBa22b847774CdD9\n"
     ]
    }
   ],
   "source": [
    "!node src/TestSafeMathZeppelinDeploy.js"
   ]
  },
  {
   "cell_type": "markdown",
   "metadata": {},
   "source": [
    "### 단계 4: 사용"
   ]
  },
  {
   "cell_type": "code",
   "execution_count": 43,
   "metadata": {
    "collapsed": false
   },
   "outputs": [
    {
     "name": "stdout",
     "output_type": "stream",
     "text": [
      "Writing src/TestSafeMathZeppelinUse.js\n"
     ]
    }
   ],
   "source": [
    "%%writefile src/TestSafeMathZeppelinUse.js\n",
    "var Web3 = require('web3');\n",
    "var web3 = new Web3(new Web3.providers.HttpProvider(\"http://117.16.44.45:8345\"));\n",
    "var fs = require('fs');\n",
    "var _str = fs.readFileSync(\"src/TestSafeMathZeppelin.json\");\n",
    "var _json = JSON.parse(_str)\n",
    "//var _abiArray = JSON.parse(_json.contracts.sHello2.abi);\n",
    "var _abiArray = JSON.parse(_json.contracts[\"src/TestSafeMathZeppelin.sol:TestSafeMath\"].abi);\n",
    "\n",
    "async function doIt() {\n",
    "    var lib = new web3.eth.Contract(_abiArray, \"0x95995FcC570A4479095C08fadBa22b847774CdD9\");\n",
    "    const accounts = await web3.eth.getAccounts();\n",
    "    console.log(\"Account: \" + accounts[0]);\n",
    "    lib.methods.add(11,20).estimateGas(function(err,gas) {\n",
    "        if(!err) console.log(\">> gas: \"+ gas);\n",
    "    });\n",
    "    lib.methods.add(11,20).call().then(console.log);\n",
    "}\n",
    "\n",
    "doIt()\n"
   ]
  },
  {
   "cell_type": "code",
   "execution_count": 44,
   "metadata": {
    "collapsed": false
   },
   "outputs": [
    {
     "name": "stdout",
     "output_type": "stream",
     "text": [
      "Account: 0xA87e9e49512f32c345e34686a9897e4c06C13A87\n",
      ">> gas: 22084\n",
      "31\n"
     ]
    }
   ],
   "source": [
    "!node src/TestSafeMathZeppelinUse.js"
   ]
  },
  {
   "cell_type": "code",
   "execution_count": null,
   "metadata": {
    "collapsed": true
   },
   "outputs": [],
   "source": [
    "@@@@@@@@@@@@@@@"
   ]
  },
  {
   "cell_type": "code",
   "execution_count": null,
   "metadata": {
    "collapsed": true
   },
   "outputs": [],
   "source": [
    "## 실습 문자열"
   ]
  },
  {
   "cell_type": "code",
   "execution_count": null,
   "metadata": {
    "collapsed": true
   },
   "outputs": [],
   "source": [
    "    //function equal() public returns (bool){\n",
    "    //    bool isEqual=StringUtils.equal(\"hello\", \"world\");\n",
    "    //    emit PrintLog(isEqual);\n",
    "    //    return isEqual;\n",
    "    //}\n"
   ]
  },
  {
   "cell_type": "code",
   "execution_count": null,
   "metadata": {
    "collapsed": true
   },
   "outputs": [],
   "source": [
    "%%writefile src/StringUtils.sol\n",
    "library StringUtils {\n",
    "    /// @dev Does a byte-by-byte lexicographical comparison of two strings.\n",
    "    /// @return a negative number if `_a` is smaller, zero if they are equal\n",
    "    /// and a positive numbe if `_b` is smaller.\n",
    "    function compare(string _a, string _b) returns (int) {\n",
    "        bytes memory a = bytes(_a);\n",
    "        bytes memory b = bytes(_b);\n",
    "        uint minLength = a.length;\n",
    "        if (b.length < minLength) minLength = b.length;\n",
    "        //@todo unroll the loop into increments of 32 and do full 32 byte comparisons\n",
    "        for (uint i = 0; i < minLength; i ++)\n",
    "            if (a[i] < b[i])\n",
    "                return -1;\n",
    "            else if (a[i] > b[i])\n",
    "                return 1;\n",
    "        if (a.length < b.length)\n",
    "            return -1;\n",
    "        else if (a.length > b.length)\n",
    "            return 1;\n",
    "        else\n",
    "            return 0;\n",
    "    }\n",
    "    /// @dev Compares two strings and returns true iff they are equal.\n",
    "    function equal(string _a, string _b) returns (bool) {\n",
    "        return compare(_a, _b) == 0;\n",
    "    }\n",
    "    /// @dev Finds the index of the first occurrence of _needle in _haystack\n",
    "    function indexOf(string _haystack, string _needle) returns (int)\n",
    "    {\n",
    "    \tbytes memory h = bytes(_haystack);\n",
    "    \tbytes memory n = bytes(_needle);\n",
    "    \tif(h.length < 1 || n.length < 1 || (n.length > h.length)) \n",
    "    \t\treturn -1;\n",
    "    \telse if(h.length > (2**128 -1)) // since we have to be able to return -1 (if the char isn't found or input error), this function must return an \"int\" type with a max length of (2^128 - 1)\n",
    "    \t\treturn -1;\t\t\t\t\t\t\t\t\t\n",
    "    \telse\n",
    "    \t{\n",
    "    \t\tuint subindex = 0;\n",
    "    \t\tfor (uint i = 0; i < h.length; i ++)\n",
    "    \t\t{\n",
    "    \t\t\tif (h[i] == n[0]) // found the first char of b\n",
    "    \t\t\t{\n",
    "    \t\t\t\tsubindex = 1;\n",
    "    \t\t\t\twhile(subindex < n.length && (i + subindex) < h.length && h[i + subindex] == n[subindex]) // search until the chars don't match or until we reach the end of a or b\n",
    "    \t\t\t\t{\n",
    "    \t\t\t\t\tsubindex++;\n",
    "    \t\t\t\t}\t\n",
    "    \t\t\t\tif(subindex == n.length)\n",
    "    \t\t\t\t\treturn int(i);\n",
    "    \t\t\t}\n",
    "    \t\t}\n",
    "    \t\treturn -1;\n",
    "    \t}\t\n",
    "    }\n",
    "}"
   ]
  },
  {
   "cell_type": "code",
   "execution_count": null,
   "metadata": {
    "collapsed": true
   },
   "outputs": [],
   "source": [
    "\n",
    "\n",
    "contract Contract {\n",
    "    using strings for *;\n",
    "\n",
    "    // ...\n",
    "}"
   ]
  },
  {
   "cell_type": "code",
   "execution_count": 21,
   "metadata": {
    "collapsed": false
   },
   "outputs": [
    {
     "name": "stdout",
     "output_type": "stream",
     "text": [
      "Overwriting src/TestStringUtils.sol\n"
     ]
    }
   ],
   "source": [
    "%%writefile src/TestStringUtils.sol\n",
    "pragma solidity 0.6.1;\n",
    "\n",
    "//import \"github.com/ethereum/dapp-bin/library/stringUtils.sol\";\n",
    "//import \"./StringUtils.sol\";\n",
    "import \"github.com/Arachnid/solidity-stringutils/strings.sol\";\n",
    "\n",
    "contract TestStringUtils {\n",
    "    using strings for *;\n",
    "    function foo() public returns (bool){\n",
    "        string memory a = \"hello\";\n",
    "        string memory b = \"world\";\n",
    "        return a.equal(a);\n",
    "    }\n",
    "}"
   ]
  },
  {
   "cell_type": "code",
   "execution_count": null,
   "metadata": {
    "collapsed": true
   },
   "outputs": [],
   "source": [
    "다운로드 후\n",
    "\n",
    "```python\n",
    "git clone https://github.com/Arachnid/solidity-stringutils.git\n",
    "```"
   ]
  },
  {
   "cell_type": "code",
   "execution_count": 19,
   "metadata": {
    "collapsed": false
   },
   "outputs": [
    {
     "name": "stdout",
     "output_type": "stream",
     "text": [
      "\u001b[1m\u001b[31mError\u001b[0m\u001b[1m\u001b[37m: Source file requires different compiler version (current compiler is 0.6.1+commit.e6f7d5a4.Linux.g++ - note that nightly builds are considered to be strictly less than the released version\r\n",
      "\u001b[0m\u001b[1m\u001b[34m  --> \u001b[0m/home/jsl/Code/git/gh/solidity-stringutils/strings.sol:37:1:\r\n",
      "  \u001b[1m\u001b[34m |\r\n",
      "\u001b[0m\u001b[1m\u001b[34m37 | \u001b[0m\u001b[33mpragma solidity ^0.4.14;\u001b[0m\r\n",
      "  \u001b[1m\u001b[34m | \u001b[0m\u001b[1m\u001b[33m^^^^^^^^^^^^^^^^^^^^^^^^\r\n",
      "\u001b[0m\r\n"
     ]
    }
   ],
   "source": [
    "!solc --abi --bin github.com/Arachnid/solidity-stringutils/=/home/jsl/Code/git/gh/solidity-stringutils/ src/TestStringUtils.sol --allow-paths ."
   ]
  },
  {
   "cell_type": "code",
   "execution_count": null,
   "metadata": {
    "collapsed": true
   },
   "outputs": [],
   "source": [
    " 버전을 변경해 준다 ```pragma solidity ^0.4.14 -->  pragma solidity ^0.6;```"
   ]
  },
  {
   "cell_type": "code",
   "execution_count": 22,
   "metadata": {
    "collapsed": false
   },
   "outputs": [
    {
     "name": "stdout",
     "output_type": "stream",
     "text": [
      "\u001b[1m\u001b[31mError\u001b[0m\u001b[1m\u001b[37m: Undeclared identifier.\r\n",
      "\u001b[0m\u001b[1m\u001b[34m   --> \u001b[0m/home/jsl/Code/git/gh/solidity-stringutils/strings.sol:705:13:\r\n",
      "   \u001b[1m\u001b[34m |\r\n",
      "\u001b[0m\u001b[1m\u001b[34m705 | \u001b[0m        for(\u001b[33mi\u001b[0m = 0; i < parts.length; i++) {\r\n",
      "   \u001b[1m\u001b[34m | \u001b[0m            \u001b[1m\u001b[33m^\r\n",
      "\u001b[0m\r\n",
      "\u001b[1m\u001b[31mError\u001b[0m\u001b[1m\u001b[37m: Undeclared identifier.\r\n",
      "\u001b[0m\u001b[1m\u001b[34m   --> \u001b[0m/home/jsl/Code/git/gh/solidity-stringutils/strings.sol:705:20:\r\n",
      "   \u001b[1m\u001b[34m |\r\n",
      "\u001b[0m\u001b[1m\u001b[34m705 | \u001b[0m        for(i = 0; \u001b[33mi\u001b[0m < parts.length; i++) {\r\n",
      "   \u001b[1m\u001b[34m | \u001b[0m                   \u001b[1m\u001b[33m^\r\n",
      "\u001b[0m\r\n",
      "\u001b[1m\u001b[31mError\u001b[0m\u001b[1m\u001b[37m: Undeclared identifier.\r\n",
      "\u001b[0m\u001b[1m\u001b[34m   --> \u001b[0m/home/jsl/Code/git/gh/solidity-stringutils/strings.sol:705:38:\r\n",
      "   \u001b[1m\u001b[34m |\r\n",
      "\u001b[0m\u001b[1m\u001b[34m705 | \u001b[0m        for(i = 0; i < parts.length; \u001b[33mi\u001b[0m++) {\r\n",
      "   \u001b[1m\u001b[34m | \u001b[0m                                     \u001b[1m\u001b[33m^\r\n",
      "\u001b[0m\r\n",
      "\u001b[1m\u001b[31mError\u001b[0m\u001b[1m\u001b[37m: Undeclared identifier.\r\n",
      "\u001b[0m\u001b[1m\u001b[34m   --> \u001b[0m/home/jsl/Code/git/gh/solidity-stringutils/strings.sol:706:34:\r\n",
      "   \u001b[1m\u001b[34m |\r\n",
      "\u001b[0m\u001b[1m\u001b[34m706 | \u001b[0m            memcpy(retptr, parts[\u001b[33mi\u001b[0m]._ptr, parts[i]._len);\r\n",
      "   \u001b[1m\u001b[34m | \u001b[0m                                 \u001b[1m\u001b[33m^\r\n",
      "\u001b[0m\r\n",
      "\u001b[1m\u001b[31mError\u001b[0m\u001b[1m\u001b[37m: Undeclared identifier.\r\n",
      "\u001b[0m\u001b[1m\u001b[34m   --> \u001b[0m/home/jsl/Code/git/gh/solidity-stringutils/strings.sol:706:49:\r\n",
      "   \u001b[1m\u001b[34m |\r\n",
      "\u001b[0m\u001b[1m\u001b[34m706 | \u001b[0m            memcpy(retptr, parts[i]._ptr, parts[\u001b[33mi\u001b[0m]._len);\r\n",
      "   \u001b[1m\u001b[34m | \u001b[0m                                                \u001b[1m\u001b[33m^\r\n",
      "\u001b[0m\r\n",
      "\u001b[1m\u001b[31mError\u001b[0m\u001b[1m\u001b[37m: Undeclared identifier.\r\n",
      "\u001b[0m\u001b[1m\u001b[34m   --> \u001b[0m/home/jsl/Code/git/gh/solidity-stringutils/strings.sol:707:29:\r\n",
      "   \u001b[1m\u001b[34m |\r\n",
      "\u001b[0m\u001b[1m\u001b[34m707 | \u001b[0m            retptr += parts[\u001b[33mi\u001b[0m]._len;\r\n",
      "   \u001b[1m\u001b[34m | \u001b[0m                            \u001b[1m\u001b[33m^\r\n",
      "\u001b[0m\r\n",
      "\u001b[1m\u001b[31mError\u001b[0m\u001b[1m\u001b[37m: Undeclared identifier.\r\n",
      "\u001b[0m\u001b[1m\u001b[34m   --> \u001b[0m/home/jsl/Code/git/gh/solidity-stringutils/strings.sol:708:17:\r\n",
      "   \u001b[1m\u001b[34m |\r\n",
      "\u001b[0m\u001b[1m\u001b[34m708 | \u001b[0m            if (\u001b[33mi\u001b[0m < parts.length - 1) {\r\n",
      "   \u001b[1m\u001b[34m | \u001b[0m                \u001b[1m\u001b[33m^\r\n",
      "\u001b[0m\r\n"
     ]
    }
   ],
   "source": [
    "!solc --abi --bin github.com/Arachnid/solidity-stringutils/=/home/jsl/Code/git/gh/solidity-stringutils/ src/TestStringUtils.sol --allow-paths ."
   ]
  },
  {
   "cell_type": "code",
   "execution_count": 13,
   "metadata": {
    "collapsed": false,
    "slideshow": {
     "slide_type": "subslide"
    }
   },
   "outputs": [
    {
     "name": "stdout",
     "output_type": "stream",
     "text": [
      "Writing src/TestStringUtils.js\n"
     ]
    }
   ],
   "source": [
    "%%writefile src/TestStringUtils.js\n",
    "var Web3=require('web3');\n",
    "var web3;\n",
    "if (typeof web3 !== 'undefined') {\n",
    "    web3 = new Web3(web3.currentProvider);\n",
    "} else {\n",
    "    web3 = new Web3(new Web3.providers.HttpProvider(\"http://117.16.44.45:8345\"));\n",
    "}\n",
    "var _abiArray=[{\"inputs\":[{\"internalType\":\"uint256\",\"name\":\"num\",\"type\":\"uint256\"}],\"name\":\"multiply7By\",\"outputs\":[{\"internalType\":\"uint256\",\"name\":\"\",\"type\":\"uint256\"}],\"stateMutability\":\"pure\",\"type\":\"function\"}];\n",
    "var _bin=\"608060405234801561001057600080fd5b50610134806100206000396000f3fe6080604052348015600f57600080fd5b506004361060285760003560e01c80633e65296914602d575b600080fd5b605660048036036020811015604157600080fd5b8101908080359060200190929190505050606c565b6040518082815260200191505060405180910390f35b6000817357b9ebe354dcb1263237d3fd5c87ab262b2944456350785a4b90916040518263ffffffff1660e01b81526004018082815260200191505060206040518083038186803b15801560be57600080fd5b505af415801560d1573d6000803e3d6000fd5b505050506040513d602081101560e657600080fd5b8101908080519060200190929190505050905091905056fea26469706673582212204db82013c693a29f1d853cd0f12f599ed38bc943b4ae865891c580aa85679daa64736f6c63430006010033\";\n",
    "var _contract = new web3.eth.Contract(_abiArray);\n",
    "//unlock the account with a password provided\n",
    "_contract\n",
    "    .deploy({data:\"0x\"+_bin})\n",
    "    .send({from:'0x051cbe7561112cbe9a357cd246d9da343a6115c4',gas:1000000}, function(err, transactionHash) {\n",
    "        if (!err) {\n",
    "            console.log(\">>> transactionHash: \", transactionHash);\n",
    "        } else { console.log(err);}\n",
    "    })\n",
    "    .then(function(contract) {\n",
    "        console.log(\">>> Deployed address: \"+contract._address);\n",
    "    })\n",
    "    .catch(function(e) {\n",
    "        console.log(\"error\",e);\n",
    "    });"
   ]
  },
  {
   "cell_type": "markdown",
   "metadata": {
    "slideshow": {
     "slide_type": "slide"
    }
   },
   "source": [
    "## 12.5 보안\n",
    "\n",
    "\n",
    "### 송금관련 오류\n",
    "    * out-of-gas\n",
    "    * call stack attack: 강제로 스택을 1024를 초과하게 해서, 공격할 수 있다.\n",
    "\n",
    "### address.send() 문제에 대한 해결\n",
    "        \n",
    "* withdraw 패턴 (출처: solidity docs)\n",
    "    * 예외가 중간에 발생하면, 그 다음부터는 실행되지 않음.\n",
    "    * 의도적으로 나쁘게 이용될 수 있슴.\n",
    "    * 전송부분을 별도로 분리함.\n",
    "```python\n",
    "//bad code\n",
    "if (msg.value > mostSent) {\n",
    "    if (!richest.send(msg.value)) {throw;} //예외가 발생하면 이 다음은 실행되지 않음.\n",
    "    richest = msg.sender;\n",
    "    mostSent = msg.value;\n",
    "    return true;\n",
    "} else {\n",
    "    return false;\n",
    "}\n",
    "```\n",
    "        "
   ]
  },
  {
   "cell_type": "markdown",
   "metadata": {
    "slideshow": {
     "slide_type": "subslide"
    }
   },
   "source": [
    "* Checks-Effects-Interactions 패턴 (출처: solidity docs)\n",
    "    * re-entrancy 전송이 실패해도 if문의 send()는 실행된다. 이를 계속하면 의도하지 않지만, 송금이 여러 번 계속 발생하게 된다.\n",
    "```python\n",
    "//bad code\n",
    "if (msg.sender.send(shares[msg.sender]))\n",
    "    shares[msg.sender] = 0;\n",
    "```\n",
    "        "
   ]
  },
  {
   "cell_type": "markdown",
   "metadata": {
    "slideshow": {
     "slide_type": "subslide"
    }
   },
   "source": [
    "* 해결: Checks-Effects-Interactions pattern. 잔고가 남아, 송금을 여러 번 할 수 없도록 잔고를 전송 전 0으로 만든다.\n",
    "```python\n",
    "//good code\n",
    "// 1. checks 사전조건\n",
    "// 2. effects\n",
    "var share = shares[msg.sender];\n",
    "shares[msg.sender] = 0;\n",
    "// 3. interactions\n",
    "if (!msg.sender.send(share))\n",
    "    throw;\n",
    "```"
   ]
  },
  {
   "cell_type": "markdown",
   "metadata": {
    "slideshow": {
     "slide_type": "subslide"
    }
   },
   "source": [
    "getMoney()를 통해 reentrancy 공격. the tokens[msg.sender]=0 이 되지 않도록 반복적 공격. 맨 마지막에 getMyLoot()를 호출.\n",
    "\n",
    "```python\n",
    "contract DiscountPool {\n",
    "    mapping (address => uint) tokens;\n",
    "    // get the amount of money corresponding to my number of tokens\n",
    "    function getMoney() {\n",
    "        if (msg.sender.send(tokens[msg.sender])) {\n",
    "            tokens[msg.sender] = 0;\n",
    "        }   \n",
    "    }   \n",
    "    function sendToken(address receiver, uint amount) {\n",
    "        if (tokens[msg.sender] < amount) {\n",
    "            throw;\n",
    "        }   \n",
    "        tokens[msg.sender] -= amount;\n",
    "        tokens[receiver] += amount;\n",
    "    }   \n",
    "}\n",
    "\n",
    "contract DiscountPoolAttack {\n",
    "    DiscountPool discountPool;\n",
    "    address owner;\n",
    "    function DiscountPoolAttack(address discountPoolAddress) {\n",
    "        owner = msg.sender;\n",
    "        discountPool = DiscountPool(discountPoolAddress);\n",
    "    }   \n",
    "    // fallback function\n",
    "    function () {\n",
    "        discountPool.getMoney()\n",
    "    }\n",
    "    function getMyLoot() {\n",
    "        if (msg.sender != owner) {\n",
    "            throw;\n",
    "        }\n",
    "        msg.sender.send(this.balance);\n",
    "    }\n",
    "}\n",
    "```\n",
    "\n",
    "Checks-Effects-Interactions 패턴을 적용\n",
    "\n",
    "```python\n",
    "function getMoney() {\n",
    "    uint mytokens = tokens[msg.sender];\n",
    "    tokens[msg.sender] = 0;\n",
    "    if (!msg.sender.send(mytokens)) {\n",
    "        throw;\n",
    "    }\n",
    "}\n",
    "```"
   ]
  }
 ],
 "metadata": {
  "kernelspec": {
   "display_name": "Python 3",
   "language": "python",
   "name": "python3"
  },
  "language_info": {
   "codemirror_mode": {
    "name": "ipython",
    "version": 3
   },
   "file_extension": ".py",
   "mimetype": "text/x-python",
   "name": "python",
   "nbconvert_exporter": "python",
   "pygments_lexer": "ipython3",
   "version": "3.6.9"
  }
 },
 "nbformat": 4,
 "nbformat_minor": 1
}
