{
 "cells": [
  {
   "cell_type": "markdown",
   "metadata": {},
   "source": [
    "# gitter\n",
    "\n",
    "Last Updated: 20220307\n",
    "\n",
    "## 목차\n",
    "\n",
    "* 1. gitter를 왜 사용할까?\n",
    "* 2. gitter에 로그인하려면\n",
    "* 3. gitter 온라인 출석\n",
    "* 4. gitter 사용법"
   ]
  },
  {
   "cell_type": "markdown",
   "metadata": {},
   "source": [
    "# 1. gitter를 왜 사용할까\n",
    "\n",
    "gitter는 개발자들을 위한 채팅프로그램입니다.\n",
    "수업에서 상호작용을 위해 gitter를 운영합니다.\n",
    "- 강의동영상 시청에 문제가 있는지\n",
    "- 강의 내용 관련하여 질문, 토론\n",
    "- 실습문제 관련하여 질문하고 답하는 경우\n",
    "- 학생 서로 질문하고 답하는 경우\n",
    "- 화면캡쳐, 소스코드도 쉽게 올리고 공유\n",
    "- 채팅은 누구나 볼 수 있는 SNS 같다고 생각하고, 학번만 쓰고 보안에 유의 (학교명, 실명, 개인정보 보안)"
   ]
  },
  {
   "cell_type": "markdown",
   "metadata": {},
   "source": [
    "# 2. gitter에 로그인하려면\n",
    "\n",
    "- id를 통해 누구인지 인식할 수 있도록 합니다. 자신의 이름도 좋지만, 사적정보보호를 위해 학번이 선호됩니다.\n",
    "- github에 먼저 회원가입하고\n",
    "\t- 출석여부를 확인할 수 있도록, 자신의 '학번'을 id로 사용 (username은 자유롭게 해도 됨)\n",
    "\t- 이미 github 회원이면, 가입을 또 할 필요 없이, id를 변경할 수 있슴.\n",
    "- 회원가입한 후 'github 회원' 권한으로 gitter에 로그인 하면 됩니다."
   ]
  },
  {
   "cell_type": "markdown",
   "metadata": {},
   "source": [
    "# 3. gitter 온라인 출석\n",
    "\n",
    "- 먼저 출석 요령, 퇴장 요령부터 배울께요\n",
    "출석은 맨션+출석 이렇게 합니다. \n",
    "맨션은 골뱅이 표시로 ```@smu405 출석``` 이렇게 모두 해보세요.\n",
    "- 퇴장할 때는 '출석'대신에 '퇴장'이라고 적어주면 됩니다. 퇴장'메시지 맨션과 함께 @smu405 퇴장\n",
    "- 마친다고 하면 늦지 않게, 거의 즉시 퇴장\n",
    "- 질문하면 (?로 끝나면) 답을 해주세요. 참여를 하지 않는 경우 출석점수에서 감점\n",
    "그러니까 질문할 때만 물음표를 붙이게 됩니다. 그 외에는 가급적 물음표는 사용하지 않아요."
   ]
  },
  {
   "cell_type": "markdown",
   "metadata": {},
   "source": [
    "# 4. gitter 사용법\n",
    "\n",
    "gitter 사용요령입니다.\n",
    "마크다운 markdown을 지원해요.\n",
    "\n",
    "- ```# 큰 글씨``` 샵(```#```)을 하나 붙이면 큰 글씨로 써집니다.\n",
    "샵이 두 개가 되면 ##는 다음으로 작은 글씨\n",
    "\n",
    "- ```* 불릿``` 별표 또는 하이픈을 앞에 적고 한 칸 띄고 텍스트를 적으면 불릿이 됩니다.\n",
    "\n",
    "- 연결불릿을 작성하려면 <SHIFT><ENTER>로 줄바꿈해서 연결합니다.\n",
    "\n",
    "```\n",
    "* 불릿1<SHIFT><ENTER>\n",
    "* 불릿1\n",
    "```"
   ]
  },
  {
   "cell_type": "markdown",
   "metadata": {},
   "source": [
    "- @는 맨션. 골뱅이에 상대방ID를적으면 맨션의 의미"
   ]
  },
  {
   "cell_type": "markdown",
   "metadata": {},
   "source": [
    "- 키보드\n",
    "```<Enter>```는 입력\n",
    "```<SHIFT><ENTER>```는 줄 바꿈"
   ]
  },
  {
   "cell_type": "markdown",
   "metadata": {},
   "source": [
    "- 코드 입력은 역 따옴표( ```` ) 키를 3개 연달아 (이렇게 \"```\" 따옴표 안의 역 따옴표 보이죠?) 코드 앞뒤에 적어요.\n",
    "작은 따옴표 ( ' )가 아니라 역 따옴표입니다.\n",
    "\n",
    "```\n",
    "- 줄1 \"```\" 하고 <SHIFT><ENTER>줄바꿈\n",
    "- 줄2 import lxml 하고 <SHIFT><ENTER>줄바꿈\n",
    "- 줄3 \"```\" 하고 <SHIFT><ENTER>줄바꿈\n",
    "```\n",
    "\n",
    "또는 줄1 ~ 줄3까지 한 줄에 모두 적어주어도 됩니다. 그러면 코드 색이 사라집니다."
   ]
  },
  {
   "cell_type": "markdown",
   "metadata": {},
   "source": [
    "- 화면캡쳐는 drag&drop, 마우스로 그림을 끌어서 내려놓으면 간단히 붙여넣기가 됩니다.\n",
    "\n",
    "- gitter를 설정하면 알림 기능이 됩니다.\n",
    "- 질문은 이캠보다 여기에 하면 더 자주 확인하는 편입니다. 학기 중에는 웹브라우저에 gitter 탭을 열어서 알림이 되도록 합니다.\n",
    "- 자신의 텍스트에 마우스를 가져가면, 우측 ```...``` 나타나고, 수정, 삭제 등 가능해요.\n",
    "- 개인정보보호는 스스로 주의하세요.\n",
    "- 개인적인 질문은 Direct message 가능합니다."
   ]
  },
  {
   "cell_type": "code",
   "execution_count": null,
   "metadata": {
    "collapsed": true
   },
   "outputs": [],
   "source": [
    "\n"
   ]
  },
  {
   "cell_type": "code",
   "execution_count": null,
   "metadata": {
    "collapsed": true
   },
   "outputs": [],
   "source": []
  }
 ],
 "metadata": {
  "kernelspec": {
   "display_name": "Python 3",
   "language": "python",
   "name": "python3"
  },
  "language_info": {
   "codemirror_mode": {
    "name": "ipython",
    "version": 3
   },
   "file_extension": ".py",
   "mimetype": "text/x-python",
   "name": "python",
   "nbconvert_exporter": "python",
   "pygments_lexer": "ipython3",
   "version": "3.6.9"
  }
 },
 "nbformat": 4,
 "nbformat_minor": 1
}
